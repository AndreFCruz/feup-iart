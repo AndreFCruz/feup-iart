{
 "cells": [
  {
   "cell_type": "code",
   "execution_count": 1,
   "metadata": {},
   "outputs": [
    {
     "name": "stderr",
     "output_type": "stream",
     "text": [
      "Using TensorFlow backend.\n"
     ]
    }
   ],
   "source": [
    "from keras.models import Sequential\n",
    "from keras.layers import Dense, Activation, BatchNormalization"
   ]
  },
  {
   "cell_type": "code",
   "execution_count": 2,
   "metadata": {
    "collapsed": true
   },
   "outputs": [],
   "source": [
    "import numpy as np\n",
    "import os\n",
    "\n",
    "np.random.seed(42)\n",
    "\n",
    "BASE_PATH = '../'\n",
    "DATA_PATH = BASE_PATH + 'dataset'\n",
    "MODELS_DIR = BASE_PATH + \"models\""
   ]
  },
  {
   "cell_type": "code",
   "execution_count": 3,
   "metadata": {
    "collapsed": true
   },
   "outputs": [],
   "source": [
    "from scipy.io import arff\n",
    "import pandas as pd\n",
    "\n",
    "def load_pulsar_csv(path = DATA_PATH):\n",
    "    csv_path = os.path.join(path, 'HTRU_2.csv')\n",
    "    return np.loadtxt(csv_path, delimiter=',', dtype=np.float32)\n",
    "\n",
    "def load_pulsar_arff(path = DATA_PATH):\n",
    "    arff_path = os.path.join(path, 'HTRU_2.arff')\n",
    "    return arff.loadarff(arff_path)"
   ]
  },
  {
   "cell_type": "code",
   "execution_count": 4,
   "metadata": {
    "collapsed": true
   },
   "outputs": [],
   "source": [
    "pulsars = load_pulsar_csv()"
   ]
  },
  {
   "cell_type": "code",
   "execution_count": 5,
   "metadata": {
    "collapsed": true
   },
   "outputs": [],
   "source": [
    "import numpy as np\n",
    "\n",
    "def split_train_dataset(data, test_ratio):\n",
    "    shuffled_indices = np.random.permutation(len(data))\n",
    "    test_set_size = int(test_ratio * len(data))\n",
    "    test_indices = shuffled_indices[:test_set_size]\n",
    "    train_indices = shuffled_indices[test_set_size:]\n",
    "    return data[train_indices,:], data[test_indices,:]\n",
    "\n",
    "# Use hash of identifier to decide if instance goes into train or test set"
   ]
  },
  {
   "cell_type": "code",
   "execution_count": 6,
   "metadata": {
    "collapsed": true
   },
   "outputs": [],
   "source": [
    "# Save Model\n",
    "import os\n",
    "\n",
    "def save_model(model, name, acc=None):\n",
    "    name += str(model.input.shape[1])\n",
    "    for layer in model.layers:\n",
    "        name += \"-\" + str(layer.output.shape[1])\n",
    "    \n",
    "    name += \"_\" + ((\"%.2f\" % acc) if acc is not None else \"\")\n",
    "    path = os.path.join(MODELS_DIR, name + \".h5\")\n",
    "    model.save(path)"
   ]
  },
  {
   "cell_type": "code",
   "execution_count": 7,
   "metadata": {
    "collapsed": true
   },
   "outputs": [],
   "source": [
    "train_set, test_set = split_train_dataset(pulsars, 0.2)"
   ]
  },
  {
   "cell_type": "code",
   "execution_count": 8,
   "metadata": {
    "collapsed": true
   },
   "outputs": [],
   "source": [
    "X_train, Y_train = train_set[:, :-1], train_set[:, -1]\n",
    "X_test, Y_test = test_set[:, :-1], test_set[:, -1]"
   ]
  },
  {
   "cell_type": "code",
   "execution_count": 15,
   "metadata": {
    "collapsed": true
   },
   "outputs": [],
   "source": [
    "from keras import regularizers\n",
    "\n",
    "# Create Model\n",
    "input_dimension = np.size(X_train, axis=1)\n",
    "\n",
    "def create_model():\n",
    "    model = Sequential()\n",
    "    model.add(BatchNormalization(input_shape=(input_dimension,), scale=False)) # scaling will be handled by next non-linear layer (relu)\n",
    "    model.add(Dense(8, activation='relu'))\n",
    "    model.add(Dense(8, activation='relu'))\n",
    "    model.add(Dense(1, activation='sigmoid'))\n",
    "    # Compile model\n",
    "    model.compile(loss='binary_crossentropy', optimizer='adam', metrics=['accuracy'])\n",
    "    return model"
   ]
  },
  {
   "cell_type": "code",
   "execution_count": 16,
   "metadata": {
    "collapsed": true
   },
   "outputs": [],
   "source": [
    "# Create and Compile Model\n",
    "model = create_model()"
   ]
  },
  {
   "cell_type": "code",
   "execution_count": 17,
   "metadata": {},
   "outputs": [
    {
     "name": "stdout",
     "output_type": "stream",
     "text": [
      "Train on 14319 samples, validate on 3579 samples\n",
      "Epoch 1/150\n",
      "14319/14319 [==============================] - 5s 320us/step - loss: 0.1973 - acc: 0.9312 - val_loss: 0.0951 - val_acc: 0.9715\n",
      "Epoch 2/150\n",
      "14319/14319 [==============================] - 4s 305us/step - loss: 0.1122 - acc: 0.9639 - val_loss: 0.0847 - val_acc: 0.9740\n",
      "Epoch 3/150\n",
      "14319/14319 [==============================] - 4s 313us/step - loss: 0.1093 - acc: 0.9652 - val_loss: 0.0842 - val_acc: 0.9743\n",
      "Epoch 4/150\n",
      "14319/14319 [==============================] - 4s 305us/step - loss: 0.1093 - acc: 0.9654 - val_loss: 0.0846 - val_acc: 0.9743\n",
      "Epoch 5/150\n",
      "14319/14319 [==============================] - 5s 323us/step - loss: 0.1037 - acc: 0.9665 - val_loss: 0.0823 - val_acc: 0.9749\n",
      "Epoch 6/150\n",
      "14319/14319 [==============================] - 5s 319us/step - loss: 0.1045 - acc: 0.9673 - val_loss: 0.0797 - val_acc: 0.9768\n",
      "Epoch 7/150\n",
      "14319/14319 [==============================] - 5s 336us/step - loss: 0.1031 - acc: 0.9664 - val_loss: 0.0839 - val_acc: 0.9743\n",
      "Epoch 8/150\n",
      "14319/14319 [==============================] - 5s 352us/step - loss: 0.1073 - acc: 0.9656 - val_loss: 0.0815 - val_acc: 0.9779\n",
      "Epoch 9/150\n",
      "14319/14319 [==============================] - 5s 341us/step - loss: 0.1033 - acc: 0.9671 - val_loss: 0.0803 - val_acc: 0.9765\n",
      "Epoch 10/150\n",
      "14319/14319 [==============================] - 5s 346us/step - loss: 0.1038 - acc: 0.9669 - val_loss: 0.0808 - val_acc: 0.9754\n",
      "Epoch 11/150\n",
      "14319/14319 [==============================] - 4s 310us/step - loss: 0.0998 - acc: 0.9680 - val_loss: 0.0792 - val_acc: 0.9771\n",
      "Epoch 12/150\n",
      "14319/14319 [==============================] - 5s 338us/step - loss: 0.0995 - acc: 0.9687 - val_loss: 0.0802 - val_acc: 0.9754\n",
      "Epoch 13/150\n",
      "14319/14319 [==============================] - 5s 325us/step - loss: 0.1009 - acc: 0.9664 - val_loss: 0.0815 - val_acc: 0.9749\n",
      "Epoch 14/150\n",
      "14319/14319 [==============================] - 5s 370us/step - loss: 0.0993 - acc: 0.9679 - val_loss: 0.0763 - val_acc: 0.9774\n",
      "Epoch 15/150\n",
      "14319/14319 [==============================] - 5s 317us/step - loss: 0.0992 - acc: 0.9671 - val_loss: 0.0790 - val_acc: 0.9749\n",
      "Epoch 16/150\n",
      "14319/14319 [==============================] - 4s 298us/step - loss: 0.0983 - acc: 0.9688 - val_loss: 0.0758 - val_acc: 0.9782\n",
      "Epoch 17/150\n",
      "14319/14319 [==============================] - 5s 318us/step - loss: 0.0961 - acc: 0.9680 - val_loss: 0.0770 - val_acc: 0.9765\n",
      "Epoch 18/150\n",
      "14319/14319 [==============================] - 4s 307us/step - loss: 0.0972 - acc: 0.9689 - val_loss: 0.0755 - val_acc: 0.9774\n",
      "Epoch 19/150\n",
      "14319/14319 [==============================] - 4s 300us/step - loss: 0.0989 - acc: 0.9663 - val_loss: 0.0763 - val_acc: 0.9782\n",
      "Epoch 20/150\n",
      "14319/14319 [==============================] - 5s 332us/step - loss: 0.0975 - acc: 0.9688 - val_loss: 0.0763 - val_acc: 0.9779\n",
      "Epoch 21/150\n",
      "14319/14319 [==============================] - 5s 330us/step - loss: 0.1001 - acc: 0.9667 - val_loss: 0.0751 - val_acc: 0.9774\n",
      "Epoch 22/150\n",
      "14319/14319 [==============================] - 4s 285us/step - loss: 0.0978 - acc: 0.9691 - val_loss: 0.0759 - val_acc: 0.9785\n",
      "Epoch 23/150\n",
      "14319/14319 [==============================] - 5s 373us/step - loss: 0.0994 - acc: 0.9686 - val_loss: 0.0760 - val_acc: 0.9779\n",
      "Epoch 24/150\n",
      "14319/14319 [==============================] - 5s 356us/step - loss: 0.0987 - acc: 0.9688 - val_loss: 0.0746 - val_acc: 0.9779\n",
      "Epoch 25/150\n",
      "14319/14319 [==============================] - 5s 370us/step - loss: 0.0965 - acc: 0.9678 - val_loss: 0.0752 - val_acc: 0.9760\n",
      "Epoch 26/150\n",
      "14319/14319 [==============================] - 5s 318us/step - loss: 0.0990 - acc: 0.9673 - val_loss: 0.0733 - val_acc: 0.9785\n",
      "Epoch 27/150\n",
      "14319/14319 [==============================] - 6s 398us/step - loss: 0.0973 - acc: 0.9678 - val_loss: 0.0753 - val_acc: 0.9765\n",
      "Epoch 28/150\n",
      "14319/14319 [==============================] - 6s 409us/step - loss: 0.0972 - acc: 0.9679 - val_loss: 0.0743 - val_acc: 0.9771\n",
      "Epoch 29/150\n",
      "14319/14319 [==============================] - 6s 413us/step - loss: 0.0982 - acc: 0.9680 - val_loss: 0.0743 - val_acc: 0.9776\n",
      "Epoch 30/150\n",
      "14319/14319 [==============================] - 5s 361us/step - loss: 0.0948 - acc: 0.9697 - val_loss: 0.0734 - val_acc: 0.9776\n",
      "Epoch 31/150\n",
      "14319/14319 [==============================] - 4s 310us/step - loss: 0.0987 - acc: 0.9682 - val_loss: 0.0714 - val_acc: 0.9790\n",
      "Epoch 32/150\n",
      "14319/14319 [==============================] - 4s 291us/step - loss: 0.0995 - acc: 0.9662 - val_loss: 0.0724 - val_acc: 0.9788\n",
      "Epoch 33/150\n",
      "14319/14319 [==============================] - 4s 310us/step - loss: 0.0917 - acc: 0.9707 - val_loss: 0.0732 - val_acc: 0.9793\n",
      "Epoch 34/150\n",
      "14319/14319 [==============================] - 5s 315us/step - loss: 0.0956 - acc: 0.9694 - val_loss: 0.0760 - val_acc: 0.9763\n",
      "Epoch 35/150\n",
      "14319/14319 [==============================] - 5s 317us/step - loss: 0.0936 - acc: 0.9702 - val_loss: 0.0728 - val_acc: 0.9774\n",
      "Epoch 36/150\n",
      "14319/14319 [==============================] - 5s 335us/step - loss: 0.0955 - acc: 0.9693 - val_loss: 0.0726 - val_acc: 0.9776\n",
      "Epoch 37/150\n",
      "14319/14319 [==============================] - 5s 360us/step - loss: 0.0933 - acc: 0.9690 - val_loss: 0.0739 - val_acc: 0.9782\n",
      "Epoch 38/150\n",
      "14319/14319 [==============================] - 4s 295us/step - loss: 0.0920 - acc: 0.9694 - val_loss: 0.0725 - val_acc: 0.9774\n",
      "Epoch 39/150\n",
      "14319/14319 [==============================] - 5s 322us/step - loss: 0.0943 - acc: 0.9713 - val_loss: 0.0734 - val_acc: 0.9774\n",
      "Epoch 40/150\n",
      "14319/14319 [==============================] - 4s 297us/step - loss: 0.0960 - acc: 0.9686 - val_loss: 0.0743 - val_acc: 0.9790\n",
      "Epoch 41/150\n",
      "14319/14319 [==============================] - 4s 311us/step - loss: 0.0946 - acc: 0.9698 - val_loss: 0.0742 - val_acc: 0.9793\n",
      "Epoch 42/150\n",
      "14319/14319 [==============================] - 4s 296us/step - loss: 0.0948 - acc: 0.9678 - val_loss: 0.0712 - val_acc: 0.9785\n",
      "Epoch 43/150\n",
      "14319/14319 [==============================] - 4s 305us/step - loss: 0.0959 - acc: 0.9700 - val_loss: 0.0731 - val_acc: 0.9793\n",
      "Epoch 44/150\n",
      "14319/14319 [==============================] - 4s 284us/step - loss: 0.0971 - acc: 0.9682 - val_loss: 0.0731 - val_acc: 0.9763\n",
      "Epoch 45/150\n",
      "14319/14319 [==============================] - 4s 295us/step - loss: 0.0940 - acc: 0.9700 - val_loss: 0.0717 - val_acc: 0.9776\n",
      "Epoch 46/150\n",
      "14319/14319 [==============================] - 4s 303us/step - loss: 0.0963 - acc: 0.9694 - val_loss: 0.0736 - val_acc: 0.9763\n",
      "Epoch 47/150\n",
      "14319/14319 [==============================] - 5s 323us/step - loss: 0.0955 - acc: 0.9705 - val_loss: 0.0731 - val_acc: 0.9771\n",
      "Epoch 48/150\n",
      "14319/14319 [==============================] - 5s 339us/step - loss: 0.0925 - acc: 0.9704 - val_loss: 0.0731 - val_acc: 0.9796\n",
      "Epoch 49/150\n",
      "14319/14319 [==============================] - 4s 304us/step - loss: 0.0953 - acc: 0.9693 - val_loss: 0.0728 - val_acc: 0.9788\n",
      "Epoch 50/150\n",
      "14319/14319 [==============================] - 4s 292us/step - loss: 0.0926 - acc: 0.9705 - val_loss: 0.0754 - val_acc: 0.9765\n",
      "Epoch 51/150\n",
      "14319/14319 [==============================] - 4s 291us/step - loss: 0.0965 - acc: 0.9703 - val_loss: 0.0740 - val_acc: 0.9776\n",
      "Epoch 52/150\n",
      "14319/14319 [==============================] - 4s 304us/step - loss: 0.0927 - acc: 0.9704 - val_loss: 0.0734 - val_acc: 0.9763\n",
      "Epoch 53/150\n",
      "14319/14319 [==============================] - 4s 310us/step - loss: 0.0949 - acc: 0.9693 - val_loss: 0.0710 - val_acc: 0.9774\n",
      "Epoch 54/150\n",
      "14319/14319 [==============================] - 4s 289us/step - loss: 0.0952 - acc: 0.9705 - val_loss: 0.0702 - val_acc: 0.9782\n",
      "Epoch 55/150\n",
      "14319/14319 [==============================] - 4s 309us/step - loss: 0.0950 - acc: 0.9698 - val_loss: 0.0723 - val_acc: 0.9765\n",
      "Epoch 56/150\n",
      "14319/14319 [==============================] - 5s 349us/step - loss: 0.0915 - acc: 0.9710 - val_loss: 0.0696 - val_acc: 0.9779\n",
      "Epoch 57/150\n",
      "14319/14319 [==============================] - 4s 267us/step - loss: 0.0969 - acc: 0.9692 - val_loss: 0.0729 - val_acc: 0.9765\n",
      "Epoch 58/150\n",
      "14319/14319 [==============================] - 4s 309us/step - loss: 0.0920 - acc: 0.9711 - val_loss: 0.0714 - val_acc: 0.9776\n",
      "Epoch 59/150\n",
      "14319/14319 [==============================] - 4s 300us/step - loss: 0.0944 - acc: 0.9694 - val_loss: 0.0732 - val_acc: 0.9774\n",
      "Epoch 60/150\n",
      "14319/14319 [==============================] - 4s 280us/step - loss: 0.0939 - acc: 0.9686 - val_loss: 0.0724 - val_acc: 0.9771\n",
      "Epoch 61/150\n",
      "14319/14319 [==============================] - 4s 306us/step - loss: 0.0933 - acc: 0.9698 - val_loss: 0.0708 - val_acc: 0.9782\n",
      "Epoch 62/150\n",
      "14319/14319 [==============================] - 4s 297us/step - loss: 0.0912 - acc: 0.9696 - val_loss: 0.0706 - val_acc: 0.9790\n",
      "Epoch 63/150\n",
      "14319/14319 [==============================] - 4s 308us/step - loss: 0.0918 - acc: 0.9689 - val_loss: 0.0713 - val_acc: 0.9774\n",
      "Epoch 64/150\n",
      "14319/14319 [==============================] - 4s 296us/step - loss: 0.0938 - acc: 0.9688 - val_loss: 0.0732 - val_acc: 0.9776\n",
      "Epoch 65/150\n",
      "14319/14319 [==============================] - 4s 295us/step - loss: 0.0934 - acc: 0.9705 - val_loss: 0.0706 - val_acc: 0.9779\n",
      "Epoch 66/150\n",
      "14319/14319 [==============================] - 5s 321us/step - loss: 0.0957 - acc: 0.9691 - val_loss: 0.0728 - val_acc: 0.9788\n",
      "Epoch 67/150\n",
      "14319/14319 [==============================] - 5s 317us/step - loss: 0.0930 - acc: 0.9694 - val_loss: 0.0723 - val_acc: 0.9785\n",
      "Epoch 68/150\n",
      "14319/14319 [==============================] - 4s 301us/step - loss: 0.0927 - acc: 0.9701 - val_loss: 0.0719 - val_acc: 0.9771\n",
      "Epoch 69/150\n",
      "14319/14319 [==============================] - 5s 325us/step - loss: 0.0917 - acc: 0.9712 - val_loss: 0.0716 - val_acc: 0.9779\n",
      "Epoch 70/150\n",
      "14319/14319 [==============================] - 4s 296us/step - loss: 0.0931 - acc: 0.9698 - val_loss: 0.0735 - val_acc: 0.9782\n",
      "Epoch 71/150\n",
      "14319/14319 [==============================] - 5s 320us/step - loss: 0.0905 - acc: 0.9698 - val_loss: 0.0745 - val_acc: 0.9774\n",
      "Epoch 72/150\n",
      "14319/14319 [==============================] - 5s 339us/step - loss: 0.0921 - acc: 0.9703 - val_loss: 0.0714 - val_acc: 0.9774\n",
      "Epoch 73/150\n",
      "14319/14319 [==============================] - 4s 286us/step - loss: 0.0922 - acc: 0.9708 - val_loss: 0.0738 - val_acc: 0.9751\n",
      "Epoch 74/150\n",
      "14319/14319 [==============================] - 4s 303us/step - loss: 0.0916 - acc: 0.9703 - val_loss: 0.0712 - val_acc: 0.9768\n",
      "Epoch 75/150\n",
      "14319/14319 [==============================] - 4s 281us/step - loss: 0.0949 - acc: 0.9686 - val_loss: 0.0721 - val_acc: 0.9779\n",
      "Epoch 76/150\n",
      "14319/14319 [==============================] - 5s 339us/step - loss: 0.0928 - acc: 0.9698 - val_loss: 0.0735 - val_acc: 0.9782\n",
      "Epoch 77/150\n",
      "14319/14319 [==============================] - 5s 367us/step - loss: 0.0917 - acc: 0.9717 - val_loss: 0.0759 - val_acc: 0.9771\n",
      "Epoch 78/150\n",
      "14319/14319 [==============================] - 5s 344us/step - loss: 0.0921 - acc: 0.9703 - val_loss: 0.0710 - val_acc: 0.9771\n",
      "Epoch 79/150\n",
      "14319/14319 [==============================] - 4s 296us/step - loss: 0.0911 - acc: 0.9717 - val_loss: 0.0698 - val_acc: 0.9779\n",
      "Epoch 80/150\n",
      "14319/14319 [==============================] - 5s 334us/step - loss: 0.0935 - acc: 0.9688 - val_loss: 0.0713 - val_acc: 0.9779\n",
      "Epoch 81/150\n",
      "14319/14319 [==============================] - 4s 285us/step - loss: 0.0893 - acc: 0.9721 - val_loss: 0.0702 - val_acc: 0.9768\n",
      "Epoch 82/150\n",
      "14319/14319 [==============================] - 4s 291us/step - loss: 0.0947 - acc: 0.9690 - val_loss: 0.0710 - val_acc: 0.9776\n",
      "Epoch 83/150\n",
      "14319/14319 [==============================] - 5s 331us/step - loss: 0.0913 - acc: 0.9712 - val_loss: 0.0701 - val_acc: 0.9785\n",
      "Epoch 84/150\n",
      "14319/14319 [==============================] - 5s 339us/step - loss: 0.0933 - acc: 0.9698 - val_loss: 0.0715 - val_acc: 0.9774\n",
      "Epoch 85/150\n",
      "14319/14319 [==============================] - 5s 314us/step - loss: 0.0895 - acc: 0.9720 - val_loss: 0.0728 - val_acc: 0.9765\n",
      "Epoch 86/150\n",
      "14319/14319 [==============================] - 4s 304us/step - loss: 0.0935 - acc: 0.9691 - val_loss: 0.0722 - val_acc: 0.9768\n",
      "Epoch 87/150\n",
      "14319/14319 [==============================] - 4s 288us/step - loss: 0.0932 - acc: 0.9703 - val_loss: 0.0730 - val_acc: 0.9765\n",
      "Epoch 88/150\n",
      "14319/14319 [==============================] - 4s 288us/step - loss: 0.0940 - acc: 0.9686 - val_loss: 0.0705 - val_acc: 0.9771\n",
      "Epoch 89/150\n",
      "14319/14319 [==============================] - 6s 390us/step - loss: 0.0942 - acc: 0.9695 - val_loss: 0.0717 - val_acc: 0.9774\n",
      "Epoch 90/150\n",
      "14319/14319 [==============================] - 5s 356us/step - loss: 0.0934 - acc: 0.9698 - val_loss: 0.0710 - val_acc: 0.9774\n",
      "Epoch 91/150\n",
      "14319/14319 [==============================] - 5s 340us/step - loss: 0.0920 - acc: 0.9702 - val_loss: 0.0710 - val_acc: 0.9771\n",
      "Epoch 92/150\n",
      "14319/14319 [==============================] - 5s 322us/step - loss: 0.0937 - acc: 0.9709 - val_loss: 0.0710 - val_acc: 0.9779\n",
      "Epoch 93/150\n",
      "14319/14319 [==============================] - 4s 285us/step - loss: 0.0892 - acc: 0.9715 - val_loss: 0.0704 - val_acc: 0.9776\n",
      "Epoch 94/150\n",
      "14319/14319 [==============================] - 4s 298us/step - loss: 0.0923 - acc: 0.9707 - val_loss: 0.0708 - val_acc: 0.9760\n",
      "Epoch 95/150\n",
      "14319/14319 [==============================] - 5s 338us/step - loss: 0.0905 - acc: 0.9711 - val_loss: 0.0714 - val_acc: 0.9776\n",
      "Epoch 96/150\n",
      "14319/14319 [==============================] - 5s 355us/step - loss: 0.0915 - acc: 0.9711 - val_loss: 0.0707 - val_acc: 0.9779\n",
      "Epoch 97/150\n",
      "14319/14319 [==============================] - 4s 307us/step - loss: 0.0919 - acc: 0.9705 - val_loss: 0.0704 - val_acc: 0.9782\n",
      "Epoch 98/150\n",
      "14319/14319 [==============================] - 4s 281us/step - loss: 0.0900 - acc: 0.9712 - val_loss: 0.0736 - val_acc: 0.9768\n",
      "Epoch 99/150\n",
      "14319/14319 [==============================] - 6s 402us/step - loss: 0.0919 - acc: 0.9704 - val_loss: 0.0704 - val_acc: 0.9779\n",
      "Epoch 100/150\n",
      "14319/14319 [==============================] - 6s 393us/step - loss: 0.0908 - acc: 0.9716 - val_loss: 0.0712 - val_acc: 0.9796\n",
      "Epoch 101/150\n",
      "14319/14319 [==============================] - 5s 329us/step - loss: 0.0928 - acc: 0.9707 - val_loss: 0.0698 - val_acc: 0.9779\n",
      "Epoch 102/150\n",
      "14319/14319 [==============================] - 5s 339us/step - loss: 0.0918 - acc: 0.9709 - val_loss: 0.0717 - val_acc: 0.9785\n",
      "Epoch 103/150\n",
      "14319/14319 [==============================] - 5s 378us/step - loss: 0.0901 - acc: 0.9704 - val_loss: 0.0711 - val_acc: 0.9774\n",
      "Epoch 104/150\n",
      "14319/14319 [==============================] - 4s 290us/step - loss: 0.0930 - acc: 0.9705 - val_loss: 0.0736 - val_acc: 0.9779\n",
      "Epoch 105/150\n",
      "14319/14319 [==============================] - 4s 306us/step - loss: 0.0924 - acc: 0.9709 - val_loss: 0.0727 - val_acc: 0.9776\n",
      "Epoch 106/150\n",
      "14319/14319 [==============================] - 4s 295us/step - loss: 0.0917 - acc: 0.9712 - val_loss: 0.0728 - val_acc: 0.9785\n",
      "Epoch 107/150\n",
      "14319/14319 [==============================] - 4s 303us/step - loss: 0.0956 - acc: 0.9680 - val_loss: 0.0746 - val_acc: 0.9779\n",
      "Epoch 108/150\n",
      "14319/14319 [==============================] - 4s 286us/step - loss: 0.0943 - acc: 0.9712 - val_loss: 0.0742 - val_acc: 0.9771\n",
      "Epoch 109/150\n",
      "14319/14319 [==============================] - 4s 297us/step - loss: 0.0892 - acc: 0.9718 - val_loss: 0.0696 - val_acc: 0.9782\n",
      "Epoch 110/150\n",
      "14319/14319 [==============================] - 4s 283us/step - loss: 0.0927 - acc: 0.9716 - val_loss: 0.0727 - val_acc: 0.9774\n",
      "Epoch 111/150\n",
      "14319/14319 [==============================] - 4s 285us/step - loss: 0.0898 - acc: 0.9707 - val_loss: 0.0733 - val_acc: 0.9771\n",
      "Epoch 112/150\n",
      "14319/14319 [==============================] - 4s 285us/step - loss: 0.0886 - acc: 0.9712 - val_loss: 0.0713 - val_acc: 0.9785\n",
      "Epoch 113/150\n",
      "14319/14319 [==============================] - 4s 294us/step - loss: 0.0918 - acc: 0.9707 - val_loss: 0.0734 - val_acc: 0.9790\n",
      "Epoch 114/150\n",
      "14319/14319 [==============================] - 4s 296us/step - loss: 0.0903 - acc: 0.9707 - val_loss: 0.0739 - val_acc: 0.9779\n",
      "Epoch 115/150\n",
      "14319/14319 [==============================] - 5s 316us/step - loss: 0.0902 - acc: 0.9710 - val_loss: 0.0719 - val_acc: 0.9785\n",
      "Epoch 116/150\n",
      "14319/14319 [==============================] - 4s 306us/step - loss: 0.0924 - acc: 0.9705 - val_loss: 0.0711 - val_acc: 0.9788\n",
      "Epoch 117/150\n"
     ]
    },
    {
     "name": "stdout",
     "output_type": "stream",
     "text": [
      "14319/14319 [==============================] - 4s 296us/step - loss: 0.0913 - acc: 0.9702 - val_loss: 0.0715 - val_acc: 0.9793\n",
      "Epoch 118/150\n",
      "14319/14319 [==============================] - 4s 295us/step - loss: 0.0931 - acc: 0.9710 - val_loss: 0.0733 - val_acc: 0.9785\n",
      "Epoch 119/150\n",
      "14319/14319 [==============================] - 5s 339us/step - loss: 0.0913 - acc: 0.9700 - val_loss: 0.0719 - val_acc: 0.9774\n",
      "Epoch 120/150\n",
      "14319/14319 [==============================] - 5s 353us/step - loss: 0.0909 - acc: 0.9716 - val_loss: 0.0725 - val_acc: 0.9779\n",
      "Epoch 121/150\n",
      "14319/14319 [==============================] - 5s 351us/step - loss: 0.0922 - acc: 0.9704 - val_loss: 0.0741 - val_acc: 0.9782\n",
      "Epoch 122/150\n",
      "14319/14319 [==============================] - 5s 316us/step - loss: 0.0913 - acc: 0.9723 - val_loss: 0.0717 - val_acc: 0.9785\n",
      "Epoch 123/150\n",
      "14319/14319 [==============================] - 4s 314us/step - loss: 0.0897 - acc: 0.9711 - val_loss: 0.0721 - val_acc: 0.9790\n",
      "Epoch 124/150\n",
      "14319/14319 [==============================] - 5s 320us/step - loss: 0.0913 - acc: 0.9711 - val_loss: 0.0733 - val_acc: 0.9779\n",
      "Epoch 125/150\n",
      "14319/14319 [==============================] - 5s 369us/step - loss: 0.0902 - acc: 0.9707 - val_loss: 0.0727 - val_acc: 0.9788\n",
      "Epoch 126/150\n",
      "14319/14319 [==============================] - 5s 326us/step - loss: 0.0903 - acc: 0.9706 - val_loss: 0.0721 - val_acc: 0.9782\n",
      "Epoch 127/150\n",
      "14319/14319 [==============================] - 4s 313us/step - loss: 0.0904 - acc: 0.9709 - val_loss: 0.0699 - val_acc: 0.9799\n",
      "Epoch 128/150\n",
      "14319/14319 [==============================] - 4s 309us/step - loss: 0.0906 - acc: 0.9708 - val_loss: 0.0713 - val_acc: 0.9782\n",
      "Epoch 129/150\n",
      "14319/14319 [==============================] - 5s 320us/step - loss: 0.0924 - acc: 0.9709 - val_loss: 0.0719 - val_acc: 0.9785\n",
      "Epoch 130/150\n",
      "14319/14319 [==============================] - 5s 326us/step - loss: 0.0885 - acc: 0.9726 - val_loss: 0.0726 - val_acc: 0.9768\n",
      "Epoch 131/150\n",
      "14319/14319 [==============================] - 5s 330us/step - loss: 0.0908 - acc: 0.9709 - val_loss: 0.0719 - val_acc: 0.9779\n",
      "Epoch 132/150\n",
      "14319/14319 [==============================] - 4s 308us/step - loss: 0.0927 - acc: 0.9708 - val_loss: 0.0711 - val_acc: 0.9774\n",
      "Epoch 133/150\n",
      "14319/14319 [==============================] - 5s 339us/step - loss: 0.0902 - acc: 0.9716 - val_loss: 0.0730 - val_acc: 0.9768\n",
      "Epoch 134/150\n",
      "14319/14319 [==============================] - 4s 293us/step - loss: 0.0907 - acc: 0.9727 - val_loss: 0.0727 - val_acc: 0.9765\n",
      "Epoch 135/150\n",
      "14319/14319 [==============================] - 4s 291us/step - loss: 0.0935 - acc: 0.9698 - val_loss: 0.0741 - val_acc: 0.9760\n",
      "Epoch 136/150\n",
      "14319/14319 [==============================] - 4s 304us/step - loss: 0.0903 - acc: 0.9709 - val_loss: 0.0733 - val_acc: 0.9765\n",
      "Epoch 137/150\n",
      "14319/14319 [==============================] - 4s 306us/step - loss: 0.0892 - acc: 0.9717 - val_loss: 0.0732 - val_acc: 0.9782\n",
      "Epoch 138/150\n",
      "14319/14319 [==============================] - 4s 303us/step - loss: 0.0880 - acc: 0.9718 - val_loss: 0.0712 - val_acc: 0.9779\n",
      "Epoch 139/150\n",
      "14319/14319 [==============================] - 4s 300us/step - loss: 0.0930 - acc: 0.9708 - val_loss: 0.0732 - val_acc: 0.9785\n",
      "Epoch 140/150\n",
      "14319/14319 [==============================] - 5s 315us/step - loss: 0.0903 - acc: 0.9699 - val_loss: 0.0714 - val_acc: 0.9779\n",
      "Epoch 141/150\n",
      "14319/14319 [==============================] - 4s 314us/step - loss: 0.0910 - acc: 0.9708 - val_loss: 0.0736 - val_acc: 0.9757\n",
      "Epoch 142/150\n",
      "14319/14319 [==============================] - 4s 283us/step - loss: 0.0923 - acc: 0.9706 - val_loss: 0.0733 - val_acc: 0.9771\n",
      "Epoch 143/150\n",
      "14319/14319 [==============================] - 4s 306us/step - loss: 0.0908 - acc: 0.9701 - val_loss: 0.0716 - val_acc: 0.9782\n",
      "Epoch 144/150\n",
      "14319/14319 [==============================] - 4s 309us/step - loss: 0.0910 - acc: 0.9707 - val_loss: 0.0724 - val_acc: 0.9774\n",
      "Epoch 145/150\n",
      "14319/14319 [==============================] - 5s 334us/step - loss: 0.0898 - acc: 0.9700 - val_loss: 0.0712 - val_acc: 0.9776\n",
      "Epoch 146/150\n",
      "14319/14319 [==============================] - 4s 299us/step - loss: 0.0868 - acc: 0.9726 - val_loss: 0.0726 - val_acc: 0.9771\n",
      "Epoch 147/150\n",
      "14319/14319 [==============================] - 5s 369us/step - loss: 0.0908 - acc: 0.9711 - val_loss: 0.0720 - val_acc: 0.9771\n",
      "Epoch 148/150\n",
      "14319/14319 [==============================] - 5s 379us/step - loss: 0.0884 - acc: 0.9719 - val_loss: 0.0721 - val_acc: 0.9774\n",
      "Epoch 149/150\n",
      "14319/14319 [==============================] - 5s 340us/step - loss: 0.0904 - acc: 0.9710 - val_loss: 0.0709 - val_acc: 0.9771\n",
      "Epoch 150/150\n",
      "14319/14319 [==============================] - 6s 405us/step - loss: 0.0891 - acc: 0.9714 - val_loss: 0.0725 - val_acc: 0.9776\n"
     ]
    },
    {
     "data": {
      "text/plain": [
       "<keras.callbacks.History at 0x181ac18da0>"
      ]
     },
     "execution_count": 17,
     "metadata": {},
     "output_type": "execute_result"
    }
   ],
   "source": [
    "# Fit the Model\n",
    "model.fit(X_train, Y_train, epochs=150, batch_size=15, validation_data=[X_test, Y_test])"
   ]
  },
  {
   "cell_type": "code",
   "execution_count": 18,
   "metadata": {},
   "outputs": [
    {
     "name": "stdout",
     "output_type": "stream",
     "text": [
      "3579/3579 [==============================] - 0s 55us/step\n"
     ]
    }
   ],
   "source": [
    "# Evaluate the Model\n",
    "scores = model.evaluate(X_test, Y_test)"
   ]
  },
  {
   "cell_type": "code",
   "execution_count": 19,
   "metadata": {},
   "outputs": [
    {
     "name": "stdout",
     "output_type": "stream",
     "text": [
      "Accuracy: 97.7647387588\n"
     ]
    }
   ],
   "source": [
    "print(\"Accuracy:\", scores[1] * 100)"
   ]
  },
  {
   "cell_type": "code",
   "execution_count": 20,
   "metadata": {},
   "outputs": [
    {
     "name": "stdout",
     "output_type": "stream",
     "text": [
      "             precision    recall  f1-score   support\n",
      "\n",
      "        0.0       0.98      0.99      0.99      3259\n",
      "        1.0       0.93      0.81      0.87       320\n",
      "\n",
      "avg / total       0.98      0.98      0.98      3579\n",
      "\n"
     ]
    }
   ],
   "source": [
    "from sklearn.metrics import classification_report\n",
    "\n",
    "# Classification metrics on test data\n",
    "predictions = model.predict(X_test)\n",
    "Y_test_predictions = [int(y + 0.5) for y in predictions]\n",
    "print(classification_report(Y_test, Y_test_predictions))"
   ]
  },
  {
   "cell_type": "code",
   "execution_count": 21,
   "metadata": {},
   "outputs": [
    {
     "name": "stdout",
     "output_type": "stream",
     "text": [
      "             precision    recall  f1-score   support\n",
      "\n",
      "          0       0.98      0.99      0.99     16259\n",
      "          1       0.94      0.80      0.86      1639\n",
      "\n",
      "avg / total       0.98      0.98      0.98     17898\n",
      "\n"
     ]
    }
   ],
   "source": [
    "# Classification metrics on all data\n",
    "\n",
    "predictions = model.predict(pulsars[:, :-1])\n",
    "Y_test_predictions = [int(y + 0.5) for y in predictions]\n",
    "print(classification_report(pulsars[:,-1].astype(int), Y_test_predictions))"
   ]
  },
  {
   "cell_type": "code",
   "execution_count": 22,
   "metadata": {
    "collapsed": true
   },
   "outputs": [],
   "source": [
    "save_model(model, 'pulsar_norm', scores[1] * 100)"
   ]
  },
  {
   "cell_type": "code",
   "execution_count": null,
   "metadata": {
    "collapsed": true
   },
   "outputs": [],
   "source": []
  }
 ],
 "metadata": {
  "kernelspec": {
   "display_name": "Python 3",
   "language": "python",
   "name": "python3"
  },
  "language_info": {
   "codemirror_mode": {
    "name": "ipython",
    "version": 3
   },
   "file_extension": ".py",
   "mimetype": "text/x-python",
   "name": "python",
   "nbconvert_exporter": "python",
   "pygments_lexer": "ipython3",
   "version": "3.6.3"
  }
 },
 "nbformat": 4,
 "nbformat_minor": 2
}
