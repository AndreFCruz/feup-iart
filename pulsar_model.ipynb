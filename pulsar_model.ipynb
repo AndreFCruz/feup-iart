{
 "cells": [
  {
   "cell_type": "code",
   "execution_count": 1,
   "metadata": {},
   "outputs": [
    {
     "name": "stderr",
     "output_type": "stream",
     "text": [
      "Using TensorFlow backend.\n"
     ]
    }
   ],
   "source": [
    "from keras.models import Sequential\n",
    "from keras.layers import Dense, Activation"
   ]
  },
  {
   "cell_type": "code",
   "execution_count": 2,
   "metadata": {
    "collapsed": true
   },
   "outputs": [],
   "source": [
    "import numpy as np\n",
    "import os\n",
    "\n",
    "np.random.seed(42)\n",
    "\n",
    "DATA_PATH = 'dataset'"
   ]
  },
  {
   "cell_type": "code",
   "execution_count": 3,
   "metadata": {
    "collapsed": true
   },
   "outputs": [],
   "source": [
    "from scipy.io import arff\n",
    "import pandas as pd\n",
    "\n",
    "def load_pulsar_csv(path = DATA_PATH):\n",
    "    csv_path = os.path.join(path, 'HTRU_2.csv')\n",
    "    return np.loadtxt(csv_path, delimiter=',', dtype=np.float32)\n",
    "\n",
    "def load_pulsar_arff(path = DATA_PATH):\n",
    "    arff_path = os.path.join(path, 'HTRU_2.arff')\n",
    "    return arff.loadarff(arff_path)"
   ]
  },
  {
   "cell_type": "code",
   "execution_count": 4,
   "metadata": {
    "collapsed": true
   },
   "outputs": [],
   "source": [
    "pulsars = load_pulsar_csv()"
   ]
  },
  {
   "cell_type": "code",
   "execution_count": 5,
   "metadata": {
    "collapsed": true
   },
   "outputs": [],
   "source": [
    "import numpy as np\n",
    "\n",
    "def split_train_dataset(data, test_ratio):\n",
    "    shuffled_indices = np.random.permutation(len(data))\n",
    "    test_set_size = int(test_ratio * len(data))\n",
    "    test_indices = shuffled_indices[:test_set_size]\n",
    "    train_indices = shuffled_indices[test_set_size:]\n",
    "    return data[train_indices,:], data[test_indices,:]\n",
    "\n",
    "# Use hash of identifier to decide if instance goes into train or test set"
   ]
  },
  {
   "cell_type": "code",
   "execution_count": 6,
   "metadata": {
    "collapsed": true
   },
   "outputs": [],
   "source": [
    "# Save Model\n",
    "import os\n",
    "\n",
    "MODELS_DIR = \"models\"\n",
    "\n",
    "def save_model(model, name, acc=None):\n",
    "    name += str(model.input.shape[1])\n",
    "    for layer in model.layers:\n",
    "        name += \"-\" + str(layer.output.shape[1])\n",
    "    \n",
    "    name += \"_\" + ((\"%.2f\" % acc) if acc is not None else \"\")\n",
    "    path = os.path.join(MODELS_DIR, name + \".h5\")\n",
    "    model.save(path)"
   ]
  },
  {
   "cell_type": "code",
   "execution_count": 7,
   "metadata": {
    "collapsed": true
   },
   "outputs": [],
   "source": [
    "train_set, test_set = split_train_dataset(pulsars, 0.2)"
   ]
  },
  {
   "cell_type": "code",
   "execution_count": 8,
   "metadata": {
    "collapsed": true
   },
   "outputs": [],
   "source": [
    "X_train, Y_train = train_set[:, :-1], train_set[:, -1]\n",
    "X_test, Y_test = test_set[:, :-1], test_set[:, -1]"
   ]
  },
  {
   "cell_type": "code",
   "execution_count": 9,
   "metadata": {
    "collapsed": true
   },
   "outputs": [],
   "source": [
    "# Create Model\n",
    "input_dimension = np.size(X_train, axis=1)\n",
    "\n",
    "def create_model():\n",
    "    model = Sequential()\n",
    "    model.add(Dense(32, input_dim=input_dimension, activation='relu'))\n",
    "    model.add(Dense(12, activation='relu'))\n",
    "    model.add(Dense(1, activation='sigmoid'))\n",
    "    # Compile model\n",
    "    model.compile(loss='binary_crossentropy', optimizer='adam', metrics=['accuracy'])\n",
    "    return model"
   ]
  },
  {
   "cell_type": "code",
   "execution_count": 10,
   "metadata": {
    "collapsed": true
   },
   "outputs": [],
   "source": [
    "# Create and Compile Model\n",
    "model = create_model()"
   ]
  },
  {
   "cell_type": "code",
   "execution_count": 11,
   "metadata": {},
   "outputs": [
    {
     "name": "stdout",
     "output_type": "stream",
     "text": [
      "Epoch 1/100\n",
      "14319/14319 [==============================] - 4s 249us/step - loss: 0.1564 - acc: 0.9654\n",
      "Epoch 2/100\n",
      "14319/14319 [==============================] - 3s 198us/step - loss: 0.1200 - acc: 0.9707\n",
      "Epoch 3/100\n",
      "14319/14319 [==============================] - 3s 196us/step - loss: 0.1108 - acc: 0.9717\n",
      "Epoch 4/100\n",
      "14319/14319 [==============================] - 3s 196us/step - loss: 0.0993 - acc: 0.9739\n",
      "Epoch 5/100\n",
      "14319/14319 [==============================] - 3s 208us/step - loss: 0.0995 - acc: 0.9741\n",
      "Epoch 6/100\n",
      "14319/14319 [==============================] - 3s 198us/step - loss: 0.0962 - acc: 0.9735\n",
      "Epoch 7/100\n",
      "14319/14319 [==============================] - 3s 196us/step - loss: 0.0951 - acc: 0.9725\n",
      "Epoch 8/100\n",
      "14319/14319 [==============================] - 3s 195us/step - loss: 0.0923 - acc: 0.9740\n",
      "Epoch 9/100\n",
      "14319/14319 [==============================] - 3s 213us/step - loss: 0.0921 - acc: 0.9740\n",
      "Epoch 10/100\n",
      "14319/14319 [==============================] - 3s 201us/step - loss: 0.0909 - acc: 0.9746\n",
      "Epoch 11/100\n",
      "14319/14319 [==============================] - ETA: 0s - loss: 0.0898 - acc: 0.975 - 3s 184us/step - loss: 0.0907 - acc: 0.9749\n",
      "Epoch 12/100\n",
      "14319/14319 [==============================] - 3s 217us/step - loss: 0.0875 - acc: 0.9752 0s - loss: 0.\n",
      "Epoch 13/100\n",
      "14319/14319 [==============================] - 3s 213us/step - loss: 0.0878 - acc: 0.9757\n",
      "Epoch 14/100\n",
      "14319/14319 [==============================] - 3s 235us/step - loss: 0.0896 - acc: 0.9754\n",
      "Epoch 15/100\n",
      "14319/14319 [==============================] - 3s 216us/step - loss: 0.0873 - acc: 0.9760\n",
      "Epoch 16/100\n",
      "14319/14319 [==============================] - 3s 198us/step - loss: 0.0846 - acc: 0.9749\n",
      "Epoch 17/100\n",
      "14319/14319 [==============================] - 3s 193us/step - loss: 0.0844 - acc: 0.9747\n",
      "Epoch 18/100\n",
      "14319/14319 [==============================] - 3s 187us/step - loss: 0.0843 - acc: 0.9753\n",
      "Epoch 19/100\n",
      "14319/14319 [==============================] - 3s 191us/step - loss: 0.0839 - acc: 0.9760\n",
      "Epoch 20/100\n",
      "14319/14319 [==============================] - 3s 188us/step - loss: 0.0837 - acc: 0.9755\n",
      "Epoch 21/100\n",
      "14319/14319 [==============================] - 3s 188us/step - loss: 0.0830 - acc: 0.9749\n",
      "Epoch 22/100\n",
      "14319/14319 [==============================] - 3s 186us/step - loss: 0.0818 - acc: 0.9762\n",
      "Epoch 23/100\n",
      "14319/14319 [==============================] - 3s 199us/step - loss: 0.0823 - acc: 0.9756\n",
      "Epoch 24/100\n",
      "14319/14319 [==============================] - 3s 203us/step - loss: 0.0832 - acc: 0.9759\n",
      "Epoch 25/100\n",
      "14319/14319 [==============================] - 3s 189us/step - loss: 0.0820 - acc: 0.9749\n",
      "Epoch 26/100\n",
      "14319/14319 [==============================] - 3s 194us/step - loss: 0.0824 - acc: 0.9759\n",
      "Epoch 27/100\n",
      "14319/14319 [==============================] - 3s 220us/step - loss: 0.0824 - acc: 0.9751\n",
      "Epoch 28/100\n",
      "14319/14319 [==============================] - 3s 186us/step - loss: 0.0813 - acc: 0.9767\n",
      "Epoch 29/100\n",
      "14319/14319 [==============================] - 3s 185us/step - loss: 0.0800 - acc: 0.9763\n",
      "Epoch 30/100\n",
      "14319/14319 [==============================] - 3s 191us/step - loss: 0.0805 - acc: 0.9767\n",
      "Epoch 31/100\n",
      "14319/14319 [==============================] - 3s 188us/step - loss: 0.0805 - acc: 0.9758\n",
      "Epoch 32/100\n",
      "14319/14319 [==============================] - 3s 210us/step - loss: 0.0799 - acc: 0.9759\n",
      "Epoch 33/100\n",
      "14319/14319 [==============================] - 3s 190us/step - loss: 0.0808 - acc: 0.9762\n",
      "Epoch 34/100\n",
      "14319/14319 [==============================] - 3s 191us/step - loss: 0.0803 - acc: 0.9760\n",
      "Epoch 35/100\n",
      "14319/14319 [==============================] - 3s 188us/step - loss: 0.0792 - acc: 0.9766\n",
      "Epoch 36/100\n",
      "14319/14319 [==============================] - 3s 187us/step - loss: 0.0798 - acc: 0.9771\n",
      "Epoch 37/100\n",
      "14319/14319 [==============================] - 3s 184us/step - loss: 0.0794 - acc: 0.9765\n",
      "Epoch 38/100\n",
      "14319/14319 [==============================] - 3s 195us/step - loss: 0.0789 - acc: 0.9767\n",
      "Epoch 39/100\n",
      "14319/14319 [==============================] - 3s 197us/step - loss: 0.0789 - acc: 0.9763\n",
      "Epoch 40/100\n",
      "14319/14319 [==============================] - 3s 183us/step - loss: 0.0795 - acc: 0.9767\n",
      "Epoch 41/100\n",
      "14319/14319 [==============================] - 3s 187us/step - loss: 0.0793 - acc: 0.9759\n",
      "Epoch 42/100\n",
      "14319/14319 [==============================] - 3s 194us/step - loss: 0.0788 - acc: 0.9763\n",
      "Epoch 43/100\n",
      "14319/14319 [==============================] - 3s 188us/step - loss: 0.0788 - acc: 0.9766\n",
      "Epoch 44/100\n",
      "14319/14319 [==============================] - 3s 200us/step - loss: 0.0774 - acc: 0.9765\n",
      "Epoch 45/100\n",
      "14319/14319 [==============================] - 3s 188us/step - loss: 0.0788 - acc: 0.9772\n",
      "Epoch 46/100\n",
      "14319/14319 [==============================] - 3s 211us/step - loss: 0.0779 - acc: 0.9775\n",
      "Epoch 47/100\n",
      "14319/14319 [==============================] - 3s 232us/step - loss: 0.0774 - acc: 0.9774\n",
      "Epoch 48/100\n",
      "14319/14319 [==============================] - 3s 244us/step - loss: 0.0770 - acc: 0.9769\n",
      "Epoch 49/100\n",
      "14319/14319 [==============================] - 3s 218us/step - loss: 0.0781 - acc: 0.9771\n",
      "Epoch 50/100\n",
      "14319/14319 [==============================] - 3s 214us/step - loss: 0.0777 - acc: 0.9778\n",
      "Epoch 51/100\n",
      "14319/14319 [==============================] - 3s 208us/step - loss: 0.0775 - acc: 0.9779\n",
      "Epoch 52/100\n",
      "14319/14319 [==============================] - 3s 223us/step - loss: 0.0775 - acc: 0.9772\n",
      "Epoch 53/100\n",
      "14319/14319 [==============================] - 3s 209us/step - loss: 0.0773 - acc: 0.9779\n",
      "Epoch 54/100\n",
      "14319/14319 [==============================] - 3s 204us/step - loss: 0.0766 - acc: 0.9773\n",
      "Epoch 55/100\n",
      "14319/14319 [==============================] - 3s 244us/step - loss: 0.0767 - acc: 0.9773\n",
      "Epoch 56/100\n",
      "14319/14319 [==============================] - 4s 247us/step - loss: 0.0772 - acc: 0.9774\n",
      "Epoch 57/100\n",
      "14319/14319 [==============================] - 9s 657us/step - loss: 0.0769 - acc: 0.9780 4s - loss: 0\n",
      "Epoch 58/100\n",
      "14319/14319 [==============================] - 4s 281us/step - loss: 0.0769 - acc: 0.9774\n",
      "Epoch 59/100\n",
      "14319/14319 [==============================] - 4s 284us/step - loss: 0.0763 - acc: 0.9767\n",
      "Epoch 60/100\n",
      "14319/14319 [==============================] - 4s 252us/step - loss: 0.0759 - acc: 0.9772\n",
      "Epoch 61/100\n",
      "14319/14319 [==============================] - 3s 214us/step - loss: 0.0761 - acc: 0.9777\n",
      "Epoch 62/100\n",
      "14319/14319 [==============================] - 3s 226us/step - loss: 0.0759 - acc: 0.9775\n",
      "Epoch 63/100\n",
      "14319/14319 [==============================] - 3s 229us/step - loss: 0.0756 - acc: 0.9783\n",
      "Epoch 64/100\n",
      "14319/14319 [==============================] - 3s 227us/step - loss: 0.0749 - acc: 0.9784\n",
      "Epoch 65/100\n",
      "14319/14319 [==============================] - 10s 679us/step - loss: 0.0753 - acc: 0.9781\n",
      "Epoch 66/100\n",
      "14319/14319 [==============================] - 3s 219us/step - loss: 0.0753 - acc: 0.9779\n",
      "Epoch 67/100\n",
      "14319/14319 [==============================] - 3s 235us/step - loss: 0.0757 - acc: 0.9775\n",
      "Epoch 68/100\n",
      "14319/14319 [==============================] - 3s 216us/step - loss: 0.0747 - acc: 0.9785\n",
      "Epoch 69/100\n",
      "14319/14319 [==============================] - 3s 210us/step - loss: 0.0743 - acc: 0.9782\n",
      "Epoch 70/100\n",
      "14319/14319 [==============================] - 3s 205us/step - loss: 0.0755 - acc: 0.9773\n",
      "Epoch 71/100\n",
      "14319/14319 [==============================] - 3s 207us/step - loss: 0.0747 - acc: 0.9788\n",
      "Epoch 72/100\n",
      "14319/14319 [==============================] - 3s 200us/step - loss: 0.0747 - acc: 0.9784\n",
      "Epoch 73/100\n",
      "14319/14319 [==============================] - 4s 247us/step - loss: 0.0745 - acc: 0.9783\n",
      "Epoch 74/100\n",
      "14319/14319 [==============================] - 3s 234us/step - loss: 0.0754 - acc: 0.9770\n",
      "Epoch 75/100\n",
      "14319/14319 [==============================] - 3s 220us/step - loss: 0.0743 - acc: 0.9783\n",
      "Epoch 76/100\n",
      "14319/14319 [==============================] - 3s 200us/step - loss: 0.0739 - acc: 0.9783\n",
      "Epoch 77/100\n",
      "14319/14319 [==============================] - 3s 188us/step - loss: 0.0739 - acc: 0.9784\n",
      "Epoch 78/100\n",
      "14319/14319 [==============================] - 3s 192us/step - loss: 0.0752 - acc: 0.9777\n",
      "Epoch 79/100\n",
      "14319/14319 [==============================] - 3s 196us/step - loss: 0.0745 - acc: 0.9780\n"
     ]
    },
    {
     "name": "stdout",
     "output_type": "stream",
     "text": [
      "Epoch 80/100\n",
      "14319/14319 [==============================] - 3s 190us/step - loss: 0.0738 - acc: 0.9784\n",
      "Epoch 81/100\n",
      "14319/14319 [==============================] - 3s 189us/step - loss: 0.0738 - acc: 0.9780\n",
      "Epoch 82/100\n",
      "14319/14319 [==============================] - 3s 244us/step - loss: 0.0737 - acc: 0.9786\n",
      "Epoch 83/100\n",
      "14319/14319 [==============================] - 3s 210us/step - loss: 0.0742 - acc: 0.9790\n",
      "Epoch 84/100\n",
      "14319/14319 [==============================] - 3s 187us/step - loss: 0.0743 - acc: 0.9784\n",
      "Epoch 85/100\n",
      "14319/14319 [==============================] - 3s 189us/step - loss: 0.0724 - acc: 0.9788\n",
      "Epoch 86/100\n",
      "14319/14319 [==============================] - 3s 189us/step - loss: 0.0738 - acc: 0.9781\n",
      "Epoch 87/100\n",
      "14319/14319 [==============================] - 3s 189us/step - loss: 0.0742 - acc: 0.9779\n",
      "Epoch 88/100\n",
      "14319/14319 [==============================] - 3s 189us/step - loss: 0.0731 - acc: 0.9786\n",
      "Epoch 89/100\n",
      "14319/14319 [==============================] - 3s 191us/step - loss: 0.0732 - acc: 0.9788\n",
      "Epoch 90/100\n",
      "14319/14319 [==============================] - 3s 183us/step - loss: 0.0729 - acc: 0.9785\n",
      "Epoch 91/100\n",
      "14319/14319 [==============================] - 3s 192us/step - loss: 0.0733 - acc: 0.9791\n",
      "Epoch 92/100\n",
      "14319/14319 [==============================] - 3s 209us/step - loss: 0.0728 - acc: 0.9786\n",
      "Epoch 93/100\n",
      "14319/14319 [==============================] - 3s 199us/step - loss: 0.0725 - acc: 0.9786\n",
      "Epoch 94/100\n",
      "14319/14319 [==============================] - 3s 192us/step - loss: 0.0732 - acc: 0.9779\n",
      "Epoch 95/100\n",
      "14319/14319 [==============================] - 3s 189us/step - loss: 0.0727 - acc: 0.9780\n",
      "Epoch 96/100\n",
      "14319/14319 [==============================] - 3s 195us/step - loss: 0.0730 - acc: 0.9793\n",
      "Epoch 97/100\n",
      "14319/14319 [==============================] - 3s 195us/step - loss: 0.0728 - acc: 0.9788\n",
      "Epoch 98/100\n",
      "14319/14319 [==============================] - 3s 192us/step - loss: 0.0739 - acc: 0.9779\n",
      "Epoch 99/100\n",
      "14319/14319 [==============================] - 3s 193us/step - loss: 0.0731 - acc: 0.9785\n",
      "Epoch 100/100\n",
      "14319/14319 [==============================] - 3s 215us/step - loss: 0.0723 - acc: 0.9798\n"
     ]
    },
    {
     "data": {
      "text/plain": [
       "<keras.callbacks.History at 0x1813fb0e48>"
      ]
     },
     "execution_count": 11,
     "metadata": {},
     "output_type": "execute_result"
    }
   ],
   "source": [
    "# Fit the Model\n",
    "model.fit(X_train, Y_train, epochs=100, batch_size=15)"
   ]
  },
  {
   "cell_type": "code",
   "execution_count": 12,
   "metadata": {},
   "outputs": [
    {
     "name": "stdout",
     "output_type": "stream",
     "text": [
      "3579/3579 [==============================] - 0s 28us/step\n"
     ]
    }
   ],
   "source": [
    "# Evaluate the Model\n",
    "scores = model.evaluate(X_test, Y_test)"
   ]
  },
  {
   "cell_type": "code",
   "execution_count": 13,
   "metadata": {},
   "outputs": [
    {
     "name": "stdout",
     "output_type": "stream",
     "text": [
      "Accuracy: 98.1000279458\n"
     ]
    }
   ],
   "source": [
    "print(\"Accuracy:\", scores[1] * 100)"
   ]
  },
  {
   "cell_type": "code",
   "execution_count": 14,
   "metadata": {},
   "outputs": [
    {
     "name": "stdout",
     "output_type": "stream",
     "text": [
      "             precision    recall  f1-score   support\n",
      "\n",
      "        0.0       0.98      1.00      0.99      3259\n",
      "        1.0       0.94      0.84      0.89       320\n",
      "\n",
      "avg / total       0.98      0.98      0.98      3579\n",
      "\n"
     ]
    }
   ],
   "source": [
    "from sklearn.metrics import classification_report\n",
    "\n",
    "# Classification metrics on test data\n",
    "predictions = model.predict(X_test)\n",
    "Y_test_predictions = [int(y + 0.5) for y in predictions]\n",
    "print(classification_report(Y_test, Y_test_predictions))"
   ]
  },
  {
   "cell_type": "code",
   "execution_count": 15,
   "metadata": {},
   "outputs": [
    {
     "name": "stdout",
     "output_type": "stream",
     "text": [
      "             precision    recall  f1-score   support\n",
      "\n",
      "          0       0.98      0.99      0.99     16259\n",
      "          1       0.94      0.83      0.88      1639\n",
      "\n",
      "avg / total       0.98      0.98      0.98     17898\n",
      "\n"
     ]
    }
   ],
   "source": [
    "# Classification metrics on all data\n",
    "\n",
    "predictions = model.predict(pulsars[:, :-1])\n",
    "Y_test_predictions = [int(y + 0.5) for y in predictions]\n",
    "print(classification_report(pulsars[:,-1].astype(int), Y_test_predictions))"
   ]
  },
  {
   "cell_type": "code",
   "execution_count": 16,
   "metadata": {
    "collapsed": true
   },
   "outputs": [],
   "source": [
    "save_model(model, 'pulsar', scores[1] * 100)"
   ]
  },
  {
   "cell_type": "code",
   "execution_count": null,
   "metadata": {
    "collapsed": true
   },
   "outputs": [],
   "source": []
  }
 ],
 "metadata": {
  "kernelspec": {
   "display_name": "Python 3",
   "language": "python",
   "name": "python3"
  },
  "language_info": {
   "codemirror_mode": {
    "name": "ipython",
    "version": 3
   },
   "file_extension": ".py",
   "mimetype": "text/x-python",
   "name": "python",
   "nbconvert_exporter": "python",
   "pygments_lexer": "ipython3",
   "version": "3.6.3"
  }
 },
 "nbformat": 4,
 "nbformat_minor": 2
}
