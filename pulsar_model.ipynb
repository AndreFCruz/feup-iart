{
 "cells": [
  {
   "cell_type": "code",
   "execution_count": 1,
   "metadata": {},
   "outputs": [
    {
     "name": "stderr",
     "output_type": "stream",
     "text": [
      "Using TensorFlow backend.\n"
     ]
    }
   ],
   "source": [
    "from keras.models import Sequential\n",
    "from keras.layers import Dense, Activation"
   ]
  },
  {
   "cell_type": "code",
   "execution_count": 2,
   "metadata": {
    "collapsed": true
   },
   "outputs": [],
   "source": [
    "import numpy as np\n",
    "import os\n",
    "\n",
    "np.random.seed(42)\n",
    "\n",
    "DATA_PATH = 'dataset'"
   ]
  },
  {
   "cell_type": "code",
   "execution_count": 3,
   "metadata": {
    "collapsed": true
   },
   "outputs": [],
   "source": [
    "from scipy.io import arff\n",
    "import pandas as pd\n",
    "\n",
    "def load_pulsar_csv(path = DATA_PATH):\n",
    "    csv_path = os.path.join(path, 'HTRU_2.csv')\n",
    "    return np.loadtxt(csv_path, delimiter=',', dtype=np.float32)\n",
    "\n",
    "def load_pulsar_arff(path = DATA_PATH):\n",
    "    arff_path = os.path.join(path, 'HTRU_2.arff')\n",
    "    return arff.loadarff(arff_path)"
   ]
  },
  {
   "cell_type": "code",
   "execution_count": 4,
   "metadata": {
    "collapsed": true
   },
   "outputs": [],
   "source": [
    "pulsars = load_pulsar_csv()"
   ]
  },
  {
   "cell_type": "code",
   "execution_count": 5,
   "metadata": {
    "collapsed": true
   },
   "outputs": [],
   "source": [
    "import numpy as np\n",
    "\n",
    "def split_train_dataset(data, test_ratio):\n",
    "    shuffled_indices = np.random.permutation(len(data))\n",
    "    test_set_size = int(test_ratio * len(data))\n",
    "    test_indices = shuffled_indices[:test_set_size]\n",
    "    train_indices = shuffled_indices[test_set_size:]\n",
    "    return data[train_indices,:], data[test_indices,:]\n",
    "\n",
    "# Use hash of identifier to decide if instance goes into train or test set"
   ]
  },
  {
   "cell_type": "code",
   "execution_count": 99,
   "metadata": {},
   "outputs": [],
   "source": [
    "# Save Model\n",
    "import os\n",
    "\n",
    "MODELS_DIR = \"models\"\n",
    "\n",
    "def save_model(model, name, acc=None):\n",
    "    name += str(model.input.shape[1])\n",
    "    for layer in model.layers:\n",
    "        name += \"-\" + str(layer.output.shape[1])\n",
    "    \n",
    "    name += \"_\" + ((\"%.2f\" % acc) if acc is not None else \"\")\n",
    "    path = os.path.join(MODELS_DIR, name + \".h5\")\n",
    "    model.save(path)"
   ]
  },
  {
   "cell_type": "code",
   "execution_count": 6,
   "metadata": {
    "collapsed": true
   },
   "outputs": [],
   "source": [
    "train_set, test_set = split_train_dataset(pulsars, 0.2)"
   ]
  },
  {
   "cell_type": "code",
   "execution_count": 7,
   "metadata": {
    "collapsed": true
   },
   "outputs": [],
   "source": [
    "X_train, Y_train = train_set[:, :-1], train_set[:, -1]\n",
    "X_test, Y_test = test_set[:, :-1], test_set[:, -1]"
   ]
  },
  {
   "cell_type": "code",
   "execution_count": 185,
   "metadata": {
    "collapsed": true
   },
   "outputs": [],
   "source": [
    "# Create Model\n",
    "model = Sequential()\n",
    "\n",
    "input_dimension = np.size(X_train, axis=1)\n",
    "model.add(Dense(16, input_dim=input_dimension, activation='relu'))\n",
    "model.add(Dense(12, activation='relu'))\n",
    "model.add(Dense(1, activation='sigmoid'))"
   ]
  },
  {
   "cell_type": "code",
   "execution_count": 186,
   "metadata": {},
   "outputs": [],
   "source": [
    "# Compile Model\n",
    "from keras import optimizers\n",
    "model.compile(loss='binary_crossentropy', optimizer='adam', metrics=['accuracy'])"
   ]
  },
  {
   "cell_type": "code",
   "execution_count": 187,
   "metadata": {},
   "outputs": [
    {
     "name": "stdout",
     "output_type": "stream",
     "text": [
      "Epoch 1/50\n",
      "14319/14319 [==============================] - 4s 255us/step - loss: 0.1799 - acc: 0.9576\n",
      "Epoch 2/50\n",
      "14319/14319 [==============================] - 3s 209us/step - loss: 0.0989 - acc: 0.9723\n",
      "Epoch 3/50\n",
      "14319/14319 [==============================] - 3s 202us/step - loss: 0.0951 - acc: 0.9730\n",
      "Epoch 4/50\n",
      "14319/14319 [==============================] - 3s 187us/step - loss: 0.0934 - acc: 0.9723\n",
      "Epoch 5/50\n",
      "14319/14319 [==============================] - 3s 195us/step - loss: 0.0924 - acc: 0.9740\n",
      "Epoch 6/50\n",
      "14319/14319 [==============================] - 3s 188us/step - loss: 0.0928 - acc: 0.9742\n",
      "Epoch 7/50\n",
      "14319/14319 [==============================] - 3s 189us/step - loss: 0.0924 - acc: 0.9739\n",
      "Epoch 8/50\n",
      "14319/14319 [==============================] - 3s 189us/step - loss: 0.0904 - acc: 0.9744\n",
      "Epoch 9/50\n",
      "14319/14319 [==============================] - 3s 199us/step - loss: 0.0893 - acc: 0.9751\n",
      "Epoch 10/50\n",
      "14319/14319 [==============================] - 3s 192us/step - loss: 0.0890 - acc: 0.9747\n",
      "Epoch 11/50\n",
      "14319/14319 [==============================] - 3s 197us/step - loss: 0.0875 - acc: 0.9753\n",
      "Epoch 12/50\n",
      "14319/14319 [==============================] - 3s 196us/step - loss: 0.0880 - acc: 0.9737\n",
      "Epoch 13/50\n",
      "14319/14319 [==============================] - 3s 192us/step - loss: 0.0865 - acc: 0.9753\n",
      "Epoch 14/50\n",
      "14319/14319 [==============================] - 3s 185us/step - loss: 0.0873 - acc: 0.9750\n",
      "Epoch 15/50\n",
      "14319/14319 [==============================] - 3s 190us/step - loss: 0.0872 - acc: 0.9748\n",
      "Epoch 16/50\n",
      "14319/14319 [==============================] - 3s 204us/step - loss: 0.0883 - acc: 0.9737\n",
      "Epoch 17/50\n",
      "14319/14319 [==============================] - 3s 187us/step - loss: 0.0849 - acc: 0.9746\n",
      "Epoch 18/50\n",
      "14319/14319 [==============================] - 3s 189us/step - loss: 0.0851 - acc: 0.9753\n",
      "Epoch 19/50\n",
      "14319/14319 [==============================] - 3s 188us/step - loss: 0.0843 - acc: 0.9751\n",
      "Epoch 20/50\n",
      "14319/14319 [==============================] - 3s 185us/step - loss: 0.0845 - acc: 0.9745\n",
      "Epoch 21/50\n",
      "14319/14319 [==============================] - 3s 201us/step - loss: 0.0858 - acc: 0.9737\n",
      "Epoch 22/50\n",
      "14319/14319 [==============================] - 3s 236us/step - loss: 0.0839 - acc: 0.9749\n",
      "Epoch 23/50\n",
      "14319/14319 [==============================] - 3s 202us/step - loss: 0.0835 - acc: 0.9742\n",
      "Epoch 24/50\n",
      "14319/14319 [==============================] - 3s 192us/step - loss: 0.0826 - acc: 0.9767\n",
      "Epoch 25/50\n",
      "14319/14319 [==============================] - 3s 189us/step - loss: 0.0836 - acc: 0.9758\n",
      "Epoch 26/50\n",
      "14319/14319 [==============================] - 3s 186us/step - loss: 0.0823 - acc: 0.9746\n",
      "Epoch 27/50\n",
      "14319/14319 [==============================] - 3s 191us/step - loss: 0.0831 - acc: 0.9749\n",
      "Epoch 28/50\n",
      "14319/14319 [==============================] - 3s 185us/step - loss: 0.0823 - acc: 0.9753\n",
      "Epoch 29/50\n",
      "14319/14319 [==============================] - 3s 187us/step - loss: 0.0826 - acc: 0.9751\n",
      "Epoch 30/50\n",
      "14319/14319 [==============================] - 3s 204us/step - loss: 0.0818 - acc: 0.9756\n",
      "Epoch 31/50\n",
      "14319/14319 [==============================] - 3s 206us/step - loss: 0.0821 - acc: 0.9755\n",
      "Epoch 32/50\n",
      "14319/14319 [==============================] - 3s 202us/step - loss: 0.0817 - acc: 0.9761\n",
      "Epoch 33/50\n",
      "14319/14319 [==============================] - 3s 184us/step - loss: 0.0811 - acc: 0.9758\n",
      "Epoch 34/50\n",
      "14319/14319 [==============================] - 3s 199us/step - loss: 0.0813 - acc: 0.9755\n",
      "Epoch 35/50\n",
      "14319/14319 [==============================] - 3s 191us/step - loss: 0.0809 - acc: 0.9758\n",
      "Epoch 36/50\n",
      "14319/14319 [==============================] - 3s 193us/step - loss: 0.0808 - acc: 0.9757\n",
      "Epoch 37/50\n",
      "14319/14319 [==============================] - 3s 194us/step - loss: 0.0812 - acc: 0.9751\n",
      "Epoch 38/50\n",
      "14319/14319 [==============================] - 3s 192us/step - loss: 0.0814 - acc: 0.9758\n",
      "Epoch 39/50\n",
      "14319/14319 [==============================] - 3s 192us/step - loss: 0.0821 - acc: 0.9753\n",
      "Epoch 40/50\n",
      "14319/14319 [==============================] - 3s 206us/step - loss: 0.0809 - acc: 0.9762\n",
      "Epoch 41/50\n",
      "14319/14319 [==============================] - 3s 188us/step - loss: 0.0807 - acc: 0.9755\n",
      "Epoch 42/50\n",
      "14319/14319 [==============================] - 3s 189us/step - loss: 0.0801 - acc: 0.9760\n",
      "Epoch 43/50\n",
      "14319/14319 [==============================] - 3s 191us/step - loss: 0.0802 - acc: 0.9764\n",
      "Epoch 44/50\n",
      "14319/14319 [==============================] - 3s 220us/step - loss: 0.0801 - acc: 0.9760\n",
      "Epoch 45/50\n",
      "14319/14319 [==============================] - 3s 207us/step - loss: 0.0803 - acc: 0.9765\n",
      "Epoch 46/50\n",
      "14319/14319 [==============================] - 3s 223us/step - loss: 0.0802 - acc: 0.9765\n",
      "Epoch 47/50\n",
      "14319/14319 [==============================] - 3s 214us/step - loss: 0.0799 - acc: 0.9765\n",
      "Epoch 48/50\n",
      "14319/14319 [==============================] - 3s 202us/step - loss: 0.0792 - acc: 0.9762\n",
      "Epoch 49/50\n",
      "14319/14319 [==============================] - 3s 193us/step - loss: 0.0797 - acc: 0.9765\n",
      "Epoch 50/50\n",
      "14319/14319 [==============================] - 3s 195us/step - loss: 0.0799 - acc: 0.9760\n"
     ]
    },
    {
     "data": {
      "text/plain": [
       "<keras.callbacks.History at 0x181764c6d8>"
      ]
     },
     "execution_count": 187,
     "metadata": {},
     "output_type": "execute_result"
    }
   ],
   "source": [
    "# Fit the Model\n",
    "model.fit(X_train, Y_train, epochs=50, batch_size=16)"
   ]
  },
  {
   "cell_type": "code",
   "execution_count": 188,
   "metadata": {},
   "outputs": [
    {
     "name": "stdout",
     "output_type": "stream",
     "text": [
      "3579/3579 [==============================] - 0s 126us/step\n"
     ]
    }
   ],
   "source": [
    "# Evaluate the Model\n",
    "scores = model.evaluate(X_test, Y_test)"
   ]
  },
  {
   "cell_type": "code",
   "execution_count": 189,
   "metadata": {},
   "outputs": [
    {
     "name": "stdout",
     "output_type": "stream",
     "text": [
      "Accuracy: 97.7367979766\n"
     ]
    }
   ],
   "source": [
    "print(\"Accuracy:\", scores[1] * 100)"
   ]
  },
  {
   "cell_type": "code",
   "execution_count": 190,
   "metadata": {},
   "outputs": [],
   "source": [
    "save_model(model, 'pulsar', scores[1] * 100)"
   ]
  },
  {
   "cell_type": "code",
   "execution_count": null,
   "metadata": {
    "collapsed": true
   },
   "outputs": [],
   "source": []
  }
 ],
 "metadata": {
  "kernelspec": {
   "display_name": "Python 3",
   "language": "python",
   "name": "python3"
  },
  "language_info": {
   "codemirror_mode": {
    "name": "ipython",
    "version": 3
   },
   "file_extension": ".py",
   "mimetype": "text/x-python",
   "name": "python",
   "nbconvert_exporter": "python",
   "pygments_lexer": "ipython3",
   "version": "3.6.3"
  }
 },
 "nbformat": 4,
 "nbformat_minor": 2
}
