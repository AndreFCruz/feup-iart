{
 "cells": [
  {
   "cell_type": "code",
   "execution_count": 1,
   "metadata": {},
   "outputs": [
    {
     "name": "stderr",
     "output_type": "stream",
     "text": [
      "Using TensorFlow backend.\n"
     ]
    }
   ],
   "source": [
    "from keras.models import Sequential\n",
    "from keras.layers import Dense, Activation"
   ]
  },
  {
   "cell_type": "code",
   "execution_count": 5,
   "metadata": {
    "collapsed": true
   },
   "outputs": [],
   "source": [
    "import numpy as np\n",
    "import os\n",
    "\n",
    "np.random.seed(42)\n",
    "\n",
    "DATA_PATH = 'dataset'"
   ]
  },
  {
   "cell_type": "code",
   "execution_count": 6,
   "metadata": {
    "collapsed": true
   },
   "outputs": [],
   "source": [
    "from scipy.io import arff\n",
    "import pandas as pd\n",
    "\n",
    "def load_pulsar_csv(path = DATA_PATH):\n",
    "    csv_path = os.path.join(path, 'HTRU_2.csv')\n",
    "    return np.loadtxt(csv_path, delimiter=',', dtype=np.float32)\n",
    "\n",
    "def load_pulsar_arff(path = DATA_PATH):\n",
    "    arff_path = os.path.join(path, 'HTRU_2.arff')\n",
    "    return arff.loadarff(arff_path)"
   ]
  },
  {
   "cell_type": "code",
   "execution_count": 22,
   "metadata": {},
   "outputs": [],
   "source": [
    "pulsars = load_pulsar_csv()"
   ]
  },
  {
   "cell_type": "code",
   "execution_count": 43,
   "metadata": {},
   "outputs": [],
   "source": [
    "import numpy as np\n",
    "\n",
    "def split_train_dataset(data, test_ratio):\n",
    "    shuffled_indices = np.random.permutation(len(data))\n",
    "    test_set_size = int(test_ratio * len(data))\n",
    "    test_indices = shuffled_indices[:test_set_size]\n",
    "    train_indices = shuffled_indices[test_set_size:]\n",
    "    return data[train_indices,:], data[test_indices,:]\n",
    "\n",
    "# Use hash of identifier to decide if instance goes into train or test set"
   ]
  },
  {
   "cell_type": "code",
   "execution_count": 44,
   "metadata": {},
   "outputs": [],
   "source": [
    "train_set, test_set = split_train_dataset(pulsars, 0.2)"
   ]
  },
  {
   "cell_type": "code",
   "execution_count": 56,
   "metadata": {},
   "outputs": [],
   "source": [
    "X_train, Y_train = train_set[:, :-1], train_set[:, -1]\n",
    "X_test, Y_test = test_set[:, :-1], test_set[:, -1]"
   ]
  },
  {
   "cell_type": "code",
   "execution_count": 63,
   "metadata": {},
   "outputs": [],
   "source": [
    "# Create Model\n",
    "model = Sequential()\n",
    "\n",
    "input_dimension = np.size(X_train, axis=1)\n",
    "model.add(Dense(32, input_dim=input_dimension, activation='relu'))\n",
    "model.add(Dense(8, activation='relu'))\n",
    "model.add(Dense(1, activation='sigmoid'))"
   ]
  },
  {
   "cell_type": "code",
   "execution_count": 65,
   "metadata": {},
   "outputs": [],
   "source": [
    "# Compile Model\n",
    "model.compile(loss='binary_crossentropy', optimizer='adam', metrics=['accuracy'])"
   ]
  },
  {
   "cell_type": "code",
   "execution_count": 66,
   "metadata": {},
   "outputs": [
    {
     "name": "stdout",
     "output_type": "stream",
     "text": [
      "Epoch 1/100\n",
      "14319/14319 [==============================] - 4s 296us/step - loss: 0.1929 - acc: 0.9645\n",
      "Epoch 2/100\n",
      "14319/14319 [==============================] - 4s 285us/step - loss: 0.0984 - acc: 0.9730\n",
      "Epoch 3/100\n",
      "14319/14319 [==============================] - 4s 299us/step - loss: 0.0950 - acc: 0.9739\n",
      "Epoch 4/100\n",
      "14319/14319 [==============================] - 4s 297us/step - loss: 0.0955 - acc: 0.9753\n",
      "Epoch 5/100\n",
      "14319/14319 [==============================] - 4s 293us/step - loss: 0.0872 - acc: 0.9751\n",
      "Epoch 6/100\n",
      "14319/14319 [==============================] - 5s 316us/step - loss: 0.0869 - acc: 0.9750\n",
      "Epoch 7/100\n",
      "14319/14319 [==============================] - 5s 317us/step - loss: 0.0846 - acc: 0.9756\n",
      "Epoch 8/100\n",
      "14319/14319 [==============================] - 5s 345us/step - loss: 0.0839 - acc: 0.9758\n",
      "Epoch 9/100\n",
      "14319/14319 [==============================] - 4s 309us/step - loss: 0.0840 - acc: 0.9759\n",
      "Epoch 10/100\n",
      "14319/14319 [==============================] - 4s 268us/step - loss: 0.0854 - acc: 0.9760\n",
      "Epoch 11/100\n",
      "14319/14319 [==============================] - 4s 283us/step - loss: 0.0835 - acc: 0.9753\n",
      "Epoch 12/100\n",
      "14319/14319 [==============================] - 5s 339us/step - loss: 0.0820 - acc: 0.9763\n",
      "Epoch 13/100\n",
      "14319/14319 [==============================] - 4s 303us/step - loss: 0.0820 - acc: 0.9758\n",
      "Epoch 14/100\n",
      "14319/14319 [==============================] - 5s 326us/step - loss: 0.0822 - acc: 0.9754\n",
      "Epoch 15/100\n",
      "14319/14319 [==============================] - 5s 331us/step - loss: 0.0823 - acc: 0.9765\n",
      "Epoch 16/100\n",
      "14319/14319 [==============================] - 4s 314us/step - loss: 0.0816 - acc: 0.9756\n",
      "Epoch 17/100\n",
      "14319/14319 [==============================] - 5s 345us/step - loss: 0.0821 - acc: 0.9757\n",
      "Epoch 18/100\n",
      "14319/14319 [==============================] - 5s 321us/step - loss: 0.0821 - acc: 0.9765\n",
      "Epoch 19/100\n",
      "14319/14319 [==============================] - 5s 333us/step - loss: 0.0808 - acc: 0.9763\n",
      "Epoch 20/100\n",
      "14319/14319 [==============================] - 4s 307us/step - loss: 0.0822 - acc: 0.9770\n",
      "Epoch 21/100\n",
      "14319/14319 [==============================] - 4s 282us/step - loss: 0.0815 - acc: 0.9767\n",
      "Epoch 22/100\n",
      "14319/14319 [==============================] - 4s 286us/step - loss: 0.0800 - acc: 0.9774\n",
      "Epoch 23/100\n",
      "14319/14319 [==============================] - 4s 300us/step - loss: 0.0804 - acc: 0.9764\n",
      "Epoch 24/100\n",
      "14319/14319 [==============================] - 4s 311us/step - loss: 0.0803 - acc: 0.9765\n",
      "Epoch 25/100\n",
      "14319/14319 [==============================] - 5s 339us/step - loss: 0.0810 - acc: 0.9767\n",
      "Epoch 26/100\n",
      "14319/14319 [==============================] - 5s 315us/step - loss: 0.0815 - acc: 0.9757\n",
      "Epoch 27/100\n",
      "14319/14319 [==============================] - 5s 343us/step - loss: 0.0819 - acc: 0.9765\n",
      "Epoch 28/100\n",
      "14319/14319 [==============================] - 5s 341us/step - loss: 0.0811 - acc: 0.9757\n",
      "Epoch 29/100\n",
      "14319/14319 [==============================] - 5s 315us/step - loss: 0.0801 - acc: 0.9766\n",
      "Epoch 30/100\n",
      "14319/14319 [==============================] - 4s 308us/step - loss: 0.0799 - acc: 0.9768\n",
      "Epoch 31/100\n",
      "14319/14319 [==============================] - 5s 354us/step - loss: 0.0796 - acc: 0.9766\n",
      "Epoch 32/100\n",
      "14319/14319 [==============================] - 5s 351us/step - loss: 0.0800 - acc: 0.9765\n",
      "Epoch 33/100\n",
      "14319/14319 [==============================] - 4s 309us/step - loss: 0.0797 - acc: 0.9767\n",
      "Epoch 34/100\n",
      "14319/14319 [==============================] - 4s 293us/step - loss: 0.0791 - acc: 0.9770\n",
      "Epoch 35/100\n",
      "14319/14319 [==============================] - 4s 275us/step - loss: 0.0794 - acc: 0.9766\n",
      "Epoch 36/100\n",
      "14319/14319 [==============================] - 4s 281us/step - loss: 0.0789 - acc: 0.9771\n",
      "Epoch 37/100\n",
      "14319/14319 [==============================] - 5s 339us/step - loss: 0.0791 - acc: 0.9770\n",
      "Epoch 38/100\n",
      "14319/14319 [==============================] - 4s 310us/step - loss: 0.0791 - acc: 0.9774\n",
      "Epoch 39/100\n",
      "14319/14319 [==============================] - 4s 297us/step - loss: 0.0811 - acc: 0.9768\n",
      "Epoch 40/100\n",
      "14319/14319 [==============================] - 4s 296us/step - loss: 0.0787 - acc: 0.9778\n",
      "Epoch 41/100\n",
      "14319/14319 [==============================] - 5s 315us/step - loss: 0.0785 - acc: 0.9777\n",
      "Epoch 42/100\n",
      "14319/14319 [==============================] - 4s 312us/step - loss: 0.0791 - acc: 0.9772\n",
      "Epoch 43/100\n",
      "14319/14319 [==============================] - 4s 290us/step - loss: 0.0784 - acc: 0.9774\n",
      "Epoch 44/100\n",
      "14319/14319 [==============================] - 4s 296us/step - loss: 0.0781 - acc: 0.9772\n",
      "Epoch 45/100\n",
      "14319/14319 [==============================] - 4s 297us/step - loss: 0.0773 - acc: 0.9778\n",
      "Epoch 46/100\n",
      "14319/14319 [==============================] - 5s 353us/step - loss: 0.0773 - acc: 0.9777\n",
      "Epoch 47/100\n",
      "14319/14319 [==============================] - 5s 333us/step - loss: 0.0791 - acc: 0.9773\n",
      "Epoch 48/100\n",
      "14319/14319 [==============================] - 4s 294us/step - loss: 0.0778 - acc: 0.9784\n",
      "Epoch 49/100\n",
      "14319/14319 [==============================] - 4s 295us/step - loss: 0.0779 - acc: 0.9771\n",
      "Epoch 50/100\n",
      "14319/14319 [==============================] - 4s 298us/step - loss: 0.0773 - acc: 0.9773\n",
      "Epoch 51/100\n",
      "14319/14319 [==============================] - 4s 299us/step - loss: 0.0776 - acc: 0.9778\n",
      "Epoch 52/100\n",
      "14319/14319 [==============================] - 4s 293us/step - loss: 0.0774 - acc: 0.9774\n",
      "Epoch 53/100\n",
      "14319/14319 [==============================] - 4s 295us/step - loss: 0.0772 - acc: 0.9775\n",
      "Epoch 54/100\n",
      "14319/14319 [==============================] - 5s 325us/step - loss: 0.0772 - acc: 0.9777\n",
      "Epoch 55/100\n",
      "14319/14319 [==============================] - 4s 303us/step - loss: 0.0770 - acc: 0.9776\n",
      "Epoch 56/100\n",
      "14319/14319 [==============================] - 5s 333us/step - loss: 0.0764 - acc: 0.9780\n",
      "Epoch 57/100\n",
      "14319/14319 [==============================] - 5s 329us/step - loss: 0.0765 - acc: 0.9777\n",
      "Epoch 58/100\n",
      "14319/14319 [==============================] - 4s 304us/step - loss: 0.0766 - acc: 0.9779\n",
      "Epoch 59/100\n",
      "14319/14319 [==============================] - 4s 289us/step - loss: 0.0766 - acc: 0.9771\n",
      "Epoch 60/100\n",
      "14319/14319 [==============================] - 4s 304us/step - loss: 0.0765 - acc: 0.9779\n",
      "Epoch 61/100\n",
      "14319/14319 [==============================] - 4s 291us/step - loss: 0.0760 - acc: 0.9778\n",
      "Epoch 62/100\n",
      "14319/14319 [==============================] - 4s 285us/step - loss: 0.0763 - acc: 0.9784\n",
      "Epoch 63/100\n",
      "14319/14319 [==============================] - 4s 284us/step - loss: 0.0762 - acc: 0.9778\n",
      "Epoch 64/100\n",
      "14319/14319 [==============================] - 4s 271us/step - loss: 0.0754 - acc: 0.9782\n",
      "Epoch 65/100\n",
      "14319/14319 [==============================] - 4s 278us/step - loss: 0.0756 - acc: 0.9777\n",
      "Epoch 66/100\n",
      "14319/14319 [==============================] - 4s 286us/step - loss: 0.0761 - acc: 0.9780\n",
      "Epoch 67/100\n",
      "14319/14319 [==============================] - 4s 305us/step - loss: 0.0752 - acc: 0.9786\n",
      "Epoch 68/100\n",
      "14319/14319 [==============================] - 4s 304us/step - loss: 0.0760 - acc: 0.9774\n",
      "Epoch 69/100\n",
      "14319/14319 [==============================] - 4s 311us/step - loss: 0.0749 - acc: 0.9783\n",
      "Epoch 70/100\n",
      "14319/14319 [==============================] - 4s 287us/step - loss: 0.0755 - acc: 0.9784\n",
      "Epoch 71/100\n",
      "14319/14319 [==============================] - 5s 328us/step - loss: 0.0765 - acc: 0.9781\n",
      "Epoch 72/100\n",
      "14319/14319 [==============================] - 4s 306us/step - loss: 0.0753 - acc: 0.9791\n",
      "Epoch 73/100\n",
      "14319/14319 [==============================] - 4s 281us/step - loss: 0.0754 - acc: 0.9781\n",
      "Epoch 74/100\n",
      "14319/14319 [==============================] - 4s 308us/step - loss: 0.0752 - acc: 0.9780\n",
      "Epoch 75/100\n",
      "14319/14319 [==============================] - 5s 328us/step - loss: 0.0744 - acc: 0.9793\n",
      "Epoch 76/100\n",
      "14319/14319 [==============================] - 5s 329us/step - loss: 0.0741 - acc: 0.9783\n",
      "Epoch 77/100\n",
      "14319/14319 [==============================] - 5s 317us/step - loss: 0.0740 - acc: 0.9786\n",
      "Epoch 78/100\n",
      "14319/14319 [==============================] - 5s 322us/step - loss: 0.0744 - acc: 0.9783\n",
      "Epoch 79/100\n",
      "14319/14319 [==============================] - 5s 332us/step - loss: 0.0733 - acc: 0.9777\n",
      "Epoch 80/100\n"
     ]
    },
    {
     "name": "stdout",
     "output_type": "stream",
     "text": [
      "14319/14319 [==============================] - 4s 289us/step - loss: 0.0731 - acc: 0.9790\n",
      "Epoch 81/100\n",
      "14319/14319 [==============================] - 4s 300us/step - loss: 0.0733 - acc: 0.9790\n",
      "Epoch 82/100\n",
      "14319/14319 [==============================] - 5s 323us/step - loss: 0.0747 - acc: 0.9784\n",
      "Epoch 83/100\n",
      "14319/14319 [==============================] - 5s 319us/step - loss: 0.0743 - acc: 0.9779\n",
      "Epoch 84/100\n",
      "14319/14319 [==============================] - 4s 286us/step - loss: 0.0736 - acc: 0.9791\n",
      "Epoch 85/100\n",
      "14319/14319 [==============================] - 4s 279us/step - loss: 0.0740 - acc: 0.9786\n",
      "Epoch 86/100\n",
      "14319/14319 [==============================] - 4s 298us/step - loss: 0.0749 - acc: 0.9790\n",
      "Epoch 87/100\n",
      "14319/14319 [==============================] - 4s 286us/step - loss: 0.0728 - acc: 0.9794\n",
      "Epoch 88/100\n",
      "14319/14319 [==============================] - 4s 281us/step - loss: 0.0728 - acc: 0.9790\n",
      "Epoch 89/100\n",
      "14319/14319 [==============================] - 4s 309us/step - loss: 0.0725 - acc: 0.9788\n",
      "Epoch 90/100\n",
      "14319/14319 [==============================] - 4s 287us/step - loss: 0.0743 - acc: 0.9795\n",
      "Epoch 91/100\n",
      "14319/14319 [==============================] - 4s 279us/step - loss: 0.0728 - acc: 0.9795\n",
      "Epoch 92/100\n",
      "14319/14319 [==============================] - 4s 273us/step - loss: 0.0729 - acc: 0.9786\n",
      "Epoch 93/100\n",
      "14319/14319 [==============================] - 4s 283us/step - loss: 0.0723 - acc: 0.9788\n",
      "Epoch 94/100\n",
      "14319/14319 [==============================] - 5s 322us/step - loss: 0.0734 - acc: 0.9788\n",
      "Epoch 95/100\n",
      "14319/14319 [==============================] - 5s 322us/step - loss: 0.0740 - acc: 0.9785\n",
      "Epoch 96/100\n",
      "14319/14319 [==============================] - 5s 358us/step - loss: 0.0739 - acc: 0.9793\n",
      "Epoch 97/100\n",
      "14319/14319 [==============================] - 5s 351us/step - loss: 0.0729 - acc: 0.9790\n",
      "Epoch 98/100\n",
      "14319/14319 [==============================] - 5s 334us/step - loss: 0.0725 - acc: 0.9791\n",
      "Epoch 99/100\n",
      "14319/14319 [==============================] - 5s 320us/step - loss: 0.0725 - acc: 0.9795\n",
      "Epoch 100/100\n",
      "14319/14319 [==============================] - 5s 325us/step - loss: 0.0727 - acc: 0.9784\n"
     ]
    },
    {
     "data": {
      "text/plain": [
       "<keras.callbacks.History at 0x1815e2fef0>"
      ]
     },
     "execution_count": 66,
     "metadata": {},
     "output_type": "execute_result"
    }
   ],
   "source": [
    "# Fit the Model\n",
    "model.fit(X_train, Y_train, epochs=100, batch_size=10)"
   ]
  },
  {
   "cell_type": "code",
   "execution_count": 68,
   "metadata": {},
   "outputs": [
    {
     "name": "stdout",
     "output_type": "stream",
     "text": [
      "3579/3579 [==============================] - 0s 37us/step\n"
     ]
    }
   ],
   "source": [
    "# Evaluate the Model\n",
    "scores = model.evaluate(X_test, Y_test)"
   ]
  },
  {
   "cell_type": "code",
   "execution_count": 69,
   "metadata": {},
   "outputs": [
    {
     "name": "stdout",
     "output_type": "stream",
     "text": [
      "\n",
      "acc: 97.85%\n"
     ]
    }
   ],
   "source": [
    "print(\"\\n%s: %.2f%%\" % (model.metrics_names[1], scores[1]*100))"
   ]
  },
  {
   "cell_type": "code",
   "execution_count": null,
   "metadata": {
    "collapsed": true
   },
   "outputs": [],
   "source": []
  }
 ],
 "metadata": {
  "kernelspec": {
   "display_name": "Python 3",
   "language": "python",
   "name": "python3"
  },
  "language_info": {
   "codemirror_mode": {
    "name": "ipython",
    "version": 3
   },
   "file_extension": ".py",
   "mimetype": "text/x-python",
   "name": "python",
   "nbconvert_exporter": "python",
   "pygments_lexer": "ipython3",
   "version": "3.6.3"
  }
 },
 "nbformat": 4,
 "nbformat_minor": 2
}
