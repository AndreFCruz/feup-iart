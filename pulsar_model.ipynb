{
 "cells": [
  {
   "cell_type": "code",
   "execution_count": 1,
   "metadata": {},
   "outputs": [
    {
     "name": "stderr",
     "output_type": "stream",
     "text": [
      "Using TensorFlow backend.\n"
     ]
    }
   ],
   "source": [
    "from keras.models import Sequential\n",
    "from keras.layers import Dense, Activation"
   ]
  },
  {
   "cell_type": "code",
   "execution_count": 2,
   "metadata": {
    "collapsed": true
   },
   "outputs": [],
   "source": [
    "import numpy as np\n",
    "import os\n",
    "\n",
    "np.random.seed(42)\n",
    "\n",
    "DATA_PATH = 'dataset'"
   ]
  },
  {
   "cell_type": "code",
   "execution_count": 3,
   "metadata": {
    "collapsed": true
   },
   "outputs": [],
   "source": [
    "from scipy.io import arff\n",
    "import pandas as pd\n",
    "\n",
    "def load_pulsar_csv(path = DATA_PATH):\n",
    "    csv_path = os.path.join(path, 'HTRU_2.csv')\n",
    "    return np.loadtxt(csv_path, delimiter=',', dtype=np.float32)\n",
    "\n",
    "def load_pulsar_arff(path = DATA_PATH):\n",
    "    arff_path = os.path.join(path, 'HTRU_2.arff')\n",
    "    return arff.loadarff(arff_path)"
   ]
  },
  {
   "cell_type": "code",
   "execution_count": 4,
   "metadata": {
    "collapsed": true
   },
   "outputs": [],
   "source": [
    "pulsars = load_pulsar_csv()"
   ]
  },
  {
   "cell_type": "code",
   "execution_count": 5,
   "metadata": {
    "collapsed": true
   },
   "outputs": [],
   "source": [
    "import numpy as np\n",
    "\n",
    "def split_train_dataset(data, test_ratio):\n",
    "    shuffled_indices = np.random.permutation(len(data))\n",
    "    test_set_size = int(test_ratio * len(data))\n",
    "    test_indices = shuffled_indices[:test_set_size]\n",
    "    train_indices = shuffled_indices[test_set_size:]\n",
    "    return data[train_indices,:], data[test_indices,:]\n",
    "\n",
    "# Use hash of identifier to decide if instance goes into train or test set"
   ]
  },
  {
   "cell_type": "code",
   "execution_count": 6,
   "metadata": {
    "collapsed": true
   },
   "outputs": [],
   "source": [
    "# Save Model\n",
    "import os\n",
    "\n",
    "MODELS_DIR = \"models\"\n",
    "\n",
    "def save_model(model, name, acc=None):\n",
    "    name += str(model.input.shape[1])\n",
    "    for layer in model.layers:\n",
    "        name += \"-\" + str(layer.output.shape[1])\n",
    "    \n",
    "    name += \"_\" + ((\"%.2f\" % acc) if acc is not None else \"\")\n",
    "    path = os.path.join(MODELS_DIR, name + \".h5\")\n",
    "    model.save(path)"
   ]
  },
  {
   "cell_type": "code",
   "execution_count": 7,
   "metadata": {
    "collapsed": true
   },
   "outputs": [],
   "source": [
    "train_set, test_set = split_train_dataset(pulsars, 0.2)"
   ]
  },
  {
   "cell_type": "code",
   "execution_count": 8,
   "metadata": {
    "collapsed": true
   },
   "outputs": [],
   "source": [
    "X_train, Y_train = train_set[:, :-1], train_set[:, -1]\n",
    "X_test, Y_test = test_set[:, :-1], test_set[:, -1]"
   ]
  },
  {
   "cell_type": "code",
   "execution_count": 9,
   "metadata": {
    "collapsed": true
   },
   "outputs": [],
   "source": [
    "# Create Model\n",
    "model = Sequential()\n",
    "\n",
    "input_dimension = np.size(X_train, axis=1)\n",
    "model.add(Dense(16, input_dim=input_dimension, activation='relu'))\n",
    "model.add(Dense(12, activation='softplus'))\n",
    "model.add(Dense(1, activation='sigmoid'))"
   ]
  },
  {
   "cell_type": "code",
   "execution_count": 10,
   "metadata": {
    "collapsed": true
   },
   "outputs": [],
   "source": [
    "# Compile Model\n",
    "from keras import optimizers\n",
    "model.compile(loss='binary_crossentropy', optimizer='adam', metrics=['accuracy'])"
   ]
  },
  {
   "cell_type": "code",
   "execution_count": 11,
   "metadata": {},
   "outputs": [
    {
     "name": "stdout",
     "output_type": "stream",
     "text": [
      "Epoch 1/10\n",
      "14319/14319 [==============================] - 3s 227us/step - loss: 0.1514 - acc: 0.9663\n",
      "Epoch 2/10\n",
      "14319/14319 [==============================] - 3s 185us/step - loss: 0.1116 - acc: 0.9715\n",
      "Epoch 3/10\n",
      "14319/14319 [==============================] - 3s 196us/step - loss: 0.1032 - acc: 0.9709\n",
      "Epoch 4/10\n",
      "14319/14319 [==============================] - 3s 200us/step - loss: 0.0945 - acc: 0.9742\n",
      "Epoch 5/10\n",
      "14319/14319 [==============================] - 3s 188us/step - loss: 0.0972 - acc: 0.9733\n",
      "Epoch 6/10\n",
      "14319/14319 [==============================] - 3s 199us/step - loss: 0.0945 - acc: 0.9735\n",
      "Epoch 7/10\n",
      "14319/14319 [==============================] - 3s 197us/step - loss: 0.0954 - acc: 0.9730\n",
      "Epoch 8/10\n",
      "14319/14319 [==============================] - 3s 239us/step - loss: 0.0930 - acc: 0.9733\n",
      "Epoch 9/10\n",
      "14319/14319 [==============================] - 3s 233us/step - loss: 0.0905 - acc: 0.9749\n",
      "Epoch 10/10\n",
      "14319/14319 [==============================] - 3s 193us/step - loss: 0.0897 - acc: 0.9749\n"
     ]
    },
    {
     "data": {
      "text/plain": [
       "<keras.callbacks.History at 0x181bc55d68>"
      ]
     },
     "execution_count": 11,
     "metadata": {},
     "output_type": "execute_result"
    }
   ],
   "source": [
    "# Fit the Model\n",
    "model.fit(X_train, Y_train, epochs=10, batch_size=16)"
   ]
  },
  {
   "cell_type": "code",
   "execution_count": 15,
   "metadata": {},
   "outputs": [
    {
     "name": "stdout",
     "output_type": "stream",
     "text": [
      "3579/3579 [==============================] - 0s 27us/step\n"
     ]
    }
   ],
   "source": [
    "# Evaluate the Model\n",
    "scores = model.evaluate(X_test, Y_test)"
   ]
  },
  {
   "cell_type": "code",
   "execution_count": 16,
   "metadata": {},
   "outputs": [
    {
     "name": "stdout",
     "output_type": "stream",
     "text": [
      "Accuracy: 97.7647387422\n"
     ]
    }
   ],
   "source": [
    "print(\"Accuracy:\", scores[1] * 100)"
   ]
  },
  {
   "cell_type": "code",
   "execution_count": 17,
   "metadata": {
    "collapsed": true
   },
   "outputs": [],
   "source": [
    "save_model(model, 'pulsar', scores[1] * 100)"
   ]
  },
  {
   "cell_type": "code",
   "execution_count": null,
   "metadata": {
    "collapsed": true
   },
   "outputs": [],
   "source": []
  }
 ],
 "metadata": {
  "kernelspec": {
   "display_name": "Python 3",
   "language": "python",
   "name": "python3"
  },
  "language_info": {
   "codemirror_mode": {
    "name": "ipython",
    "version": 3
   },
   "file_extension": ".py",
   "mimetype": "text/x-python",
   "name": "python",
   "nbconvert_exporter": "python",
   "pygments_lexer": "ipython3",
   "version": "3.6.3"
  }
 },
 "nbformat": 4,
 "nbformat_minor": 2
}
