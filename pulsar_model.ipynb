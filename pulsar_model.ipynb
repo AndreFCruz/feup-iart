{
 "cells": [
  {
   "cell_type": "code",
   "execution_count": 1,
   "metadata": {},
   "outputs": [
    {
     "name": "stderr",
     "output_type": "stream",
     "text": [
      "Using TensorFlow backend.\n"
     ]
    }
   ],
   "source": [
    "from keras.models import Sequential\n",
    "from keras.layers import Dense, Activation"
   ]
  },
  {
   "cell_type": "code",
   "execution_count": 2,
   "metadata": {
    "collapsed": true
   },
   "outputs": [],
   "source": [
    "import numpy as np\n",
    "import os\n",
    "\n",
    "np.random.seed(42)\n",
    "\n",
    "DATA_PATH = 'dataset'"
   ]
  },
  {
   "cell_type": "code",
   "execution_count": 3,
   "metadata": {
    "collapsed": true
   },
   "outputs": [],
   "source": [
    "from scipy.io import arff\n",
    "import pandas as pd\n",
    "\n",
    "def load_pulsar_csv(path = DATA_PATH):\n",
    "    csv_path = os.path.join(path, 'HTRU_2.csv')\n",
    "    return np.loadtxt(csv_path, delimiter=',', dtype=np.float32)\n",
    "\n",
    "def load_pulsar_arff(path = DATA_PATH):\n",
    "    arff_path = os.path.join(path, 'HTRU_2.arff')\n",
    "    return arff.loadarff(arff_path)"
   ]
  },
  {
   "cell_type": "code",
   "execution_count": 4,
   "metadata": {
    "collapsed": true
   },
   "outputs": [],
   "source": [
    "pulsars = load_pulsar_csv()"
   ]
  },
  {
   "cell_type": "code",
   "execution_count": 5,
   "metadata": {
    "collapsed": true
   },
   "outputs": [],
   "source": [
    "import numpy as np\n",
    "\n",
    "def split_train_dataset(data, test_ratio):\n",
    "    shuffled_indices = np.random.permutation(len(data))\n",
    "    test_set_size = int(test_ratio * len(data))\n",
    "    test_indices = shuffled_indices[:test_set_size]\n",
    "    train_indices = shuffled_indices[test_set_size:]\n",
    "    return data[train_indices,:], data[test_indices,:]\n",
    "\n",
    "# Use hash of identifier to decide if instance goes into train or test set"
   ]
  },
  {
   "cell_type": "code",
   "execution_count": 6,
   "metadata": {
    "collapsed": true
   },
   "outputs": [],
   "source": [
    "train_set, test_set = split_train_dataset(pulsars, 0.2)"
   ]
  },
  {
   "cell_type": "code",
   "execution_count": 7,
   "metadata": {
    "collapsed": true
   },
   "outputs": [],
   "source": [
    "X_train, Y_train = train_set[:, :-1], train_set[:, -1]\n",
    "X_test, Y_test = test_set[:, :-1], test_set[:, -1]"
   ]
  },
  {
   "cell_type": "code",
   "execution_count": 20,
   "metadata": {
    "collapsed": true
   },
   "outputs": [],
   "source": [
    "# Create Model\n",
    "model = Sequential()\n",
    "\n",
    "input_dimension = np.size(X_train, axis=1)\n",
    "model.add(Dense(32, input_dim=input_dimension, activation='relu'))\n",
    "model.add(Dense(16, activation='relu'))\n",
    "model.add(Dense(1, activation='sigmoid'))"
   ]
  },
  {
   "cell_type": "code",
   "execution_count": 21,
   "metadata": {
    "collapsed": true
   },
   "outputs": [],
   "source": [
    "# Compile Model\n",
    "model.compile(loss='binary_crossentropy', optimizer='adam', metrics=['accuracy'])"
   ]
  },
  {
   "cell_type": "code",
   "execution_count": 61,
   "metadata": {},
   "outputs": [
    {
     "name": "stdout",
     "output_type": "stream",
     "text": [
      "Train on 11455 samples, validate on 2864 samples\n",
      "Epoch 1/50\n",
      "11455/11455 [==============================] - 3s 300us/step - loss: 0.0729 - acc: 0.9800 - val_loss: 0.0673 - val_acc: 0.9822\n",
      "Epoch 2/50\n",
      "11455/11455 [==============================] - 3s 300us/step - loss: 0.0724 - acc: 0.9798 - val_loss: 0.0647 - val_acc: 0.9797\n",
      "Epoch 3/50\n",
      "11455/11455 [==============================] - 3s 300us/step - loss: 0.0725 - acc: 0.9795 - val_loss: 0.0654 - val_acc: 0.9794\n",
      "Epoch 4/50\n",
      "11455/11455 [==============================] - 3s 305us/step - loss: 0.0718 - acc: 0.9803 - val_loss: 0.0664 - val_acc: 0.9791\n",
      "Epoch 5/50\n",
      "11455/11455 [==============================] - 3s 300us/step - loss: 0.0723 - acc: 0.9790 - val_loss: 0.0740 - val_acc: 0.9784\n",
      "Epoch 6/50\n",
      "11455/11455 [==============================] - 4s 327us/step - loss: 0.0730 - acc: 0.9793 - val_loss: 0.0661 - val_acc: 0.9780\n",
      "Epoch 7/50\n",
      "11455/11455 [==============================] - 3s 295us/step - loss: 0.0721 - acc: 0.9795 - val_loss: 0.0693 - val_acc: 0.9797\n",
      "Epoch 8/50\n",
      "11455/11455 [==============================] - 3s 294us/step - loss: 0.0723 - acc: 0.9798 - val_loss: 0.0654 - val_acc: 0.9797\n",
      "Epoch 9/50\n",
      "11455/11455 [==============================] - 4s 307us/step - loss: 0.0731 - acc: 0.9791 - val_loss: 0.0707 - val_acc: 0.9784\n",
      "Epoch 10/50\n",
      "11455/11455 [==============================] - 3s 303us/step - loss: 0.0726 - acc: 0.9800 - val_loss: 0.0677 - val_acc: 0.9797\n",
      "Epoch 11/50\n",
      "11455/11455 [==============================] - 3s 285us/step - loss: 0.0726 - acc: 0.9794 - val_loss: 0.0668 - val_acc: 0.9791\n",
      "Epoch 12/50\n",
      "11455/11455 [==============================] - 3s 280us/step - loss: 0.0718 - acc: 0.9802 - val_loss: 0.0729 - val_acc: 0.9794\n",
      "Epoch 13/50\n",
      "11455/11455 [==============================] - 4s 307us/step - loss: 0.0728 - acc: 0.9794 - val_loss: 0.0740 - val_acc: 0.9773\n",
      "Epoch 14/50\n",
      "11455/11455 [==============================] - 4s 322us/step - loss: 0.0735 - acc: 0.9797 - val_loss: 0.0770 - val_acc: 0.9784\n",
      "Epoch 15/50\n",
      "11455/11455 [==============================] - 3s 302us/step - loss: 0.0720 - acc: 0.9803 - val_loss: 0.0652 - val_acc: 0.9804\n",
      "Epoch 16/50\n",
      "11455/11455 [==============================] - 3s 299us/step - loss: 0.0724 - acc: 0.9791 - val_loss: 0.0656 - val_acc: 0.9804\n",
      "Epoch 17/50\n",
      "11455/11455 [==============================] - 4s 357us/step - loss: 0.0717 - acc: 0.9795 - val_loss: 0.0698 - val_acc: 0.9794\n",
      "Epoch 18/50\n",
      "11455/11455 [==============================] - 4s 311us/step - loss: 0.0713 - acc: 0.9800 - val_loss: 0.0647 - val_acc: 0.9791\n",
      "Epoch 19/50\n",
      "11455/11455 [==============================] - 4s 312us/step - loss: 0.0721 - acc: 0.9793 - val_loss: 0.0657 - val_acc: 0.9797\n",
      "Epoch 20/50\n",
      "11455/11455 [==============================] - 3s 300us/step - loss: 0.0709 - acc: 0.9807 - val_loss: 0.0739 - val_acc: 0.9777\n",
      "Epoch 21/50\n",
      "11455/11455 [==============================] - 3s 303us/step - loss: 0.0721 - acc: 0.9804 - val_loss: 0.0701 - val_acc: 0.9784\n",
      "Epoch 22/50\n",
      "11455/11455 [==============================] - 4s 312us/step - loss: 0.0724 - acc: 0.9798 - val_loss: 0.0676 - val_acc: 0.9791\n",
      "Epoch 23/50\n",
      "11455/11455 [==============================] - 4s 352us/step - loss: 0.0722 - acc: 0.9798 - val_loss: 0.0711 - val_acc: 0.9777\n",
      "Epoch 24/50\n",
      "11455/11455 [==============================] - 4s 334us/step - loss: 0.0715 - acc: 0.9802 - val_loss: 0.0706 - val_acc: 0.9797\n",
      "Epoch 25/50\n",
      "11455/11455 [==============================] - 3s 302us/step - loss: 0.0714 - acc: 0.9799 - val_loss: 0.0641 - val_acc: 0.9801\n",
      "Epoch 26/50\n",
      "11455/11455 [==============================] - 3s 295us/step - loss: 0.0716 - acc: 0.9797 - val_loss: 0.0667 - val_acc: 0.9801\n",
      "Epoch 27/50\n",
      "11455/11455 [==============================] - 4s 339us/step - loss: 0.0719 - acc: 0.9797 - val_loss: 0.0746 - val_acc: 0.9784\n",
      "Epoch 28/50\n",
      "11455/11455 [==============================] - 3s 292us/step - loss: 0.0716 - acc: 0.9799 - val_loss: 0.0711 - val_acc: 0.9804\n",
      "Epoch 29/50\n",
      "11455/11455 [==============================] - 3s 284us/step - loss: 0.0720 - acc: 0.9789 - val_loss: 0.0736 - val_acc: 0.9791\n",
      "Epoch 30/50\n",
      "11455/11455 [==============================] - 3s 278us/step - loss: 0.0717 - acc: 0.9801 - val_loss: 0.0656 - val_acc: 0.9804\n",
      "Epoch 31/50\n",
      "11455/11455 [==============================] - 3s 281us/step - loss: 0.0708 - acc: 0.9807 - val_loss: 0.0671 - val_acc: 0.9787\n",
      "Epoch 32/50\n",
      "11455/11455 [==============================] - 3s 281us/step - loss: 0.0721 - acc: 0.9794 - val_loss: 0.0658 - val_acc: 0.9787\n",
      "Epoch 33/50\n",
      "11455/11455 [==============================] - 3s 278us/step - loss: 0.0715 - acc: 0.9795 - val_loss: 0.0722 - val_acc: 0.9766\n",
      "Epoch 34/50\n",
      "11455/11455 [==============================] - 3s 275us/step - loss: 0.0717 - acc: 0.9794 - val_loss: 0.0688 - val_acc: 0.9780\n",
      "Epoch 35/50\n",
      "11455/11455 [==============================] - 3s 280us/step - loss: 0.0714 - acc: 0.9796 - val_loss: 0.0744 - val_acc: 0.9759\n",
      "Epoch 36/50\n",
      "11455/11455 [==============================] - 3s 283us/step - loss: 0.0722 - acc: 0.9795 - val_loss: 0.0666 - val_acc: 0.9773\n",
      "Epoch 37/50\n",
      "11455/11455 [==============================] - 3s 282us/step - loss: 0.0709 - acc: 0.9794 - val_loss: 0.0720 - val_acc: 0.9763\n",
      "Epoch 38/50\n",
      "11455/11455 [==============================] - 3s 289us/step - loss: 0.0711 - acc: 0.9794 - val_loss: 0.0723 - val_acc: 0.9787\n",
      "Epoch 39/50\n",
      "11455/11455 [==============================] - 3s 296us/step - loss: 0.0716 - acc: 0.9797 - val_loss: 0.0672 - val_acc: 0.9794\n",
      "Epoch 40/50\n",
      "11455/11455 [==============================] - 4s 329us/step - loss: 0.0706 - acc: 0.9797 - val_loss: 0.0707 - val_acc: 0.9791\n",
      "Epoch 41/50\n",
      "11455/11455 [==============================] - 4s 354us/step - loss: 0.0726 - acc: 0.9791 - val_loss: 0.0666 - val_acc: 0.9804\n",
      "Epoch 42/50\n",
      "11455/11455 [==============================] - 4s 328us/step - loss: 0.0704 - acc: 0.9796 - val_loss: 0.0653 - val_acc: 0.9797\n",
      "Epoch 43/50\n",
      "11455/11455 [==============================] - 4s 335us/step - loss: 0.0734 - acc: 0.9806 - val_loss: 0.0694 - val_acc: 0.9794\n",
      "Epoch 44/50\n",
      "11455/11455 [==============================] - 4s 327us/step - loss: 0.0711 - acc: 0.9802 - val_loss: 0.0655 - val_acc: 0.9797\n",
      "Epoch 45/50\n",
      "11455/11455 [==============================] - 4s 315us/step - loss: 0.0718 - acc: 0.9797 - val_loss: 0.0642 - val_acc: 0.9801\n",
      "Epoch 46/50\n",
      "11455/11455 [==============================] - 4s 323us/step - loss: 0.0708 - acc: 0.9802 - val_loss: 0.0662 - val_acc: 0.9784\n",
      "Epoch 47/50\n",
      "11455/11455 [==============================] - 4s 317us/step - loss: 0.0705 - acc: 0.9795 - val_loss: 0.0915 - val_acc: 0.9759\n",
      "Epoch 48/50\n",
      "11455/11455 [==============================] - 4s 308us/step - loss: 0.0714 - acc: 0.9801 - val_loss: 0.0703 - val_acc: 0.9791\n",
      "Epoch 49/50\n",
      "11455/11455 [==============================] - 4s 313us/step - loss: 0.0713 - acc: 0.9799 - val_loss: 0.0749 - val_acc: 0.9784\n",
      "Epoch 50/50\n",
      "11455/11455 [==============================] - 4s 323us/step - loss: 0.0713 - acc: 0.9799 - val_loss: 0.0656 - val_acc: 0.9804\n"
     ]
    },
    {
     "data": {
      "text/plain": [
       "<keras.callbacks.History at 0x1810e00978>"
      ]
     },
     "execution_count": 61,
     "metadata": {},
     "output_type": "execute_result"
    }
   ],
   "source": [
    "# Fit the Model\n",
    "model.fit(X_train, Y_train, epochs=50, batch_size=10, validation_split=0.2)"
   ]
  },
  {
   "cell_type": "code",
   "execution_count": 62,
   "metadata": {},
   "outputs": [
    {
     "name": "stdout",
     "output_type": "stream",
     "text": [
      "3579/3579 [==============================] - 0s 33us/step\n"
     ]
    }
   ],
   "source": [
    "# Evaluate the Model\n",
    "scores = model.evaluate(X_test, Y_test)"
   ]
  },
  {
   "cell_type": "code",
   "execution_count": 63,
   "metadata": {},
   "outputs": [
    {
     "name": "stdout",
     "output_type": "stream",
     "text": [
      "Accuracy: 98.1559094769\n"
     ]
    }
   ],
   "source": [
    "print(\"Accuracy:\", scores[1] * 100)"
   ]
  },
  {
   "cell_type": "code",
   "execution_count": 75,
   "metadata": {},
   "outputs": [],
   "source": [
    "# Save Model\n",
    "import os\n",
    "\n",
    "MODELS_DIR = \"models\"\n",
    "\n",
    "def save_model(model, name, acc=None):\n",
    "    name += str(model.input.shape[1])\n",
    "    for layer in model.layers:\n",
    "        name += \"-\" + str(layer.output.shape[1])\n",
    "    \n",
    "    name += \"_\" + ((\"%.2f\" % acc) if acc is not None else \"\")\n",
    "    path = os.path.join(MODELS_DIR, name + \".h5\")\n",
    "    model.save(path)"
   ]
  },
  {
   "cell_type": "code",
   "execution_count": 76,
   "metadata": {},
   "outputs": [],
   "source": [
    "save_model(model, 'pulsar', scores[1] * 100)"
   ]
  },
  {
   "cell_type": "code",
   "execution_count": null,
   "metadata": {
    "collapsed": true
   },
   "outputs": [],
   "source": []
  }
 ],
 "metadata": {
  "kernelspec": {
   "display_name": "Python 3",
   "language": "python",
   "name": "python3"
  },
  "language_info": {
   "codemirror_mode": {
    "name": "ipython",
    "version": 3
   },
   "file_extension": ".py",
   "mimetype": "text/x-python",
   "name": "python",
   "nbconvert_exporter": "python",
   "pygments_lexer": "ipython3",
   "version": "3.6.3"
  }
 },
 "nbformat": 4,
 "nbformat_minor": 2
}
