{
 "cells": [
  {
   "cell_type": "code",
   "execution_count": 14,
   "metadata": {},
   "outputs": [],
   "source": [
    "from keras.models import Sequential\n",
    "from keras.layers import Dense, Activation"
   ]
  },
  {
   "cell_type": "code",
   "execution_count": 15,
   "metadata": {
    "collapsed": true
   },
   "outputs": [],
   "source": [
    "import numpy as np\n",
    "import os\n",
    "\n",
    "RAND_SEED = 42\n",
    "\n",
    "np.random.seed(RAND_SEED)\n",
    "\n",
    "DATA_PATH = 'dataset'"
   ]
  },
  {
   "cell_type": "code",
   "execution_count": 16,
   "metadata": {
    "collapsed": true
   },
   "outputs": [],
   "source": [
    "from scipy.io import arff\n",
    "import pandas as pd\n",
    "\n",
    "def load_pulsar_csv(path = DATA_PATH):\n",
    "    csv_path = os.path.join(path, 'HTRU_2.csv')\n",
    "    return np.loadtxt(csv_path, delimiter=',', dtype=np.float32)\n",
    "\n",
    "def load_pulsar_arff(path = DATA_PATH):\n",
    "    arff_path = os.path.join(path, 'HTRU_2.arff')\n",
    "    return arff.loadarff(arff_path)"
   ]
  },
  {
   "cell_type": "code",
   "execution_count": 17,
   "metadata": {
    "collapsed": true
   },
   "outputs": [],
   "source": [
    "pulsars = load_pulsar_csv()"
   ]
  },
  {
   "cell_type": "code",
   "execution_count": 18,
   "metadata": {
    "collapsed": true
   },
   "outputs": [],
   "source": [
    "import numpy as np\n",
    "\n",
    "def split_train_dataset(data, test_ratio):\n",
    "    shuffled_indices = np.random.permutation(len(data))\n",
    "    test_set_size = int(test_ratio * len(data))\n",
    "    test_indices = shuffled_indices[:test_set_size]\n",
    "    train_indices = shuffled_indices[test_set_size:]\n",
    "    return data[train_indices,:], data[test_indices,:]\n",
    "\n",
    "# Use hash of identifier to decide if instance goes into train or test set"
   ]
  },
  {
   "cell_type": "code",
   "execution_count": 19,
   "metadata": {
    "collapsed": true
   },
   "outputs": [],
   "source": [
    "# Save Model\n",
    "import os\n",
    "\n",
    "MODELS_DIR = \"models\"\n",
    "\n",
    "def save_model(model, name, acc=None, suffix=\"\"):\n",
    "    name += str(model.input.shape[1])\n",
    "    for layer in model.layers:\n",
    "        name += \"-\" + str(layer.output.shape[1])\n",
    "    \n",
    "    name += \"_\" + suffix + \"_\"\n",
    "    name += \"_\" + ((\"%.2f\" % acc) if acc is not None else \"\")\n",
    "    path = os.path.join(MODELS_DIR, name + \".h5\")\n",
    "    model.save(path)"
   ]
  },
  {
   "cell_type": "code",
   "execution_count": 20,
   "metadata": {
    "collapsed": true
   },
   "outputs": [],
   "source": [
    "X, Y = pulsars[:, :-1], pulsars[:, -1]\n",
    "\n",
    "train_set, test_set = split_train_dataset(pulsars, 0.2)"
   ]
  },
  {
   "cell_type": "code",
   "execution_count": 21,
   "metadata": {
    "collapsed": true
   },
   "outputs": [],
   "source": [
    "X_train, Y_train = train_set[:, :-1], train_set[:, -1]\n",
    "X_test, Y_test = test_set[:, :-1], test_set[:, -1]"
   ]
  },
  {
   "cell_type": "code",
   "execution_count": 22,
   "metadata": {},
   "outputs": [],
   "source": [
    "from keras import regularizers\n",
    "\n",
    "# Create Model\n",
    "input_dimension = np.size(X_train, axis=1)\n",
    "\n",
    "def create_model(optimizer='adam', loss='binary_crossentropy', first_layer=8, second_layer=8, reg=[False, False], normalize=False):\n",
    "    model = Sequential()\n",
    "    if normalize:\n",
    "        model.add(BatchNormalization(input_shape=(input_dimension,)))\n",
    "    model.add(Dense(first_layer, input_dim=input_dimension, activation='relu'))\n",
    "    if second_layer > 1:\n",
    "        model.add(Dense(second_layer, activation='relu',\n",
    "                  activity_regularizer = (regularizers.l2(0.01) if reg[0] else None)))\n",
    "    model.add(Dense(1, activation='sigmoid',\n",
    "              activity_regularizer = (regularizers.l2(0.01) if reg[1] else None)))\n",
    "    # Compile model\n",
    "    model.compile(loss=loss, optimizer=optimizer, metrics=['accuracy'])\n",
    "    return model"
   ]
  },
  {
   "cell_type": "code",
   "execution_count": null,
   "metadata": {},
   "outputs": [],
   "source": [
    "from keras.wrappers.scikit_learn import KerasClassifier\n",
    "from sklearn.model_selection import StratifiedKFold\n",
    "from sklearn.model_selection import cross_val_score\n",
    "from sklearn.model_selection import GridSearchCV\n",
    "\n",
    "# create model\n",
    "model = KerasClassifier(build_fn=create_model, epochs=200, verbose=0)\n",
    "\n",
    "# Parameters for GridSearch\n",
    "param_grid = [\n",
    "    {\n",
    "        'optimizer': ['adam'],\n",
    "        'batch_size': [15],\n",
    "        'second_layer': [8],\n",
    "        'first_layer': [8, 16, 32],\n",
    "        'reg': [[b1, b2] for b1 in [True, False] for b2 in [True, False]],\n",
    "        'normalize': [False, True]\n",
    "    },\n",
    "    {\n",
    "        'optimizer': ['adam'],\n",
    "        'batch_size': [15],\n",
    "        'second_layer': [12, 16],\n",
    "        'first_layer': [32],\n",
    "        'reg': [[b1, b2] for b1 in [True, False] for b2 in [True, False]],\n",
    "        'normalize': [False, True]\n",
    "    }\n",
    "]\n",
    "\n",
    "grid = GridSearchCV(estimator=model, param_grid=param_grid)\n",
    "grid_result = grid.fit(X, Y)"
   ]
  },
  {
   "cell_type": "code",
   "execution_count": null,
   "metadata": {},
   "outputs": [],
   "source": [
    "# summarize results\n",
    "print(\"Best: %f using %s\" % (grid_result.best_score_, grid_result.best_params_))\n",
    "means = grid_result.cv_results_['mean_test_score']\n",
    "stds = grid_result.cv_results_['std_test_score']\n",
    "params = grid_result.cv_results_['params']\n",
    "for mean, stdev, param in zip(means, stds, params):\n",
    "\tprint(\"%f (%f) with: %r\" % (mean, stdev, param))"
   ]
  },
  {
   "cell_type": "code",
   "execution_count": 14,
   "metadata": {
    "collapsed": true
   },
   "outputs": [],
   "source": [
    "model_path = os.path.join(MODELS_DIR, 'grid_search_8_8_' + ('%.2f' % (grid.best_score_ * 100)) + '.h5')\n",
    "grid.best_estimator_.model.save(model_path)"
   ]
  },
  {
   "cell_type": "code",
   "execution_count": null,
   "metadata": {
    "collapsed": true
   },
   "outputs": [],
   "source": []
  }
 ],
 "metadata": {
  "kernelspec": {
   "display_name": "Python 3",
   "language": "python",
   "name": "python3"
  },
  "language_info": {
   "codemirror_mode": {
    "name": "ipython",
    "version": 3
   },
   "file_extension": ".py",
   "mimetype": "text/x-python",
   "name": "python",
   "nbconvert_exporter": "python",
   "pygments_lexer": "ipython3",
   "version": "3.6.3"
  }
 },
 "nbformat": 4,
 "nbformat_minor": 2
}
