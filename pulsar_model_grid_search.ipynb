{
 "cells": [
  {
   "cell_type": "code",
   "execution_count": 26,
   "metadata": {},
   "outputs": [],
   "source": [
    "from keras.models import Sequential\n",
    "from keras.layers import Dense, Activation"
   ]
  },
  {
   "cell_type": "code",
   "execution_count": 27,
   "metadata": {
    "collapsed": true
   },
   "outputs": [],
   "source": [
    "import numpy as np\n",
    "import os\n",
    "\n",
    "RAND_SEED = 42\n",
    "\n",
    "np.random.seed(RAND_SEED)\n",
    "\n",
    "DATA_PATH = 'dataset'"
   ]
  },
  {
   "cell_type": "code",
   "execution_count": 28,
   "metadata": {
    "collapsed": true
   },
   "outputs": [],
   "source": [
    "from scipy.io import arff\n",
    "import pandas as pd\n",
    "\n",
    "def load_pulsar_csv(path = DATA_PATH):\n",
    "    csv_path = os.path.join(path, 'HTRU_2.csv')\n",
    "    return np.loadtxt(csv_path, delimiter=',', dtype=np.float32)\n",
    "\n",
    "def load_pulsar_arff(path = DATA_PATH):\n",
    "    arff_path = os.path.join(path, 'HTRU_2.arff')\n",
    "    return arff.loadarff(arff_path)"
   ]
  },
  {
   "cell_type": "code",
   "execution_count": 29,
   "metadata": {
    "collapsed": true
   },
   "outputs": [],
   "source": [
    "pulsars = load_pulsar_csv()"
   ]
  },
  {
   "cell_type": "code",
   "execution_count": 30,
   "metadata": {
    "collapsed": true
   },
   "outputs": [],
   "source": [
    "import numpy as np\n",
    "\n",
    "def split_train_dataset(data, test_ratio):\n",
    "    shuffled_indices = np.random.permutation(len(data))\n",
    "    test_set_size = int(test_ratio * len(data))\n",
    "    test_indices = shuffled_indices[:test_set_size]\n",
    "    train_indices = shuffled_indices[test_set_size:]\n",
    "    return data[train_indices,:], data[test_indices,:]\n",
    "\n",
    "# Use hash of identifier to decide if instance goes into train or test set"
   ]
  },
  {
   "cell_type": "code",
   "execution_count": 31,
   "metadata": {
    "collapsed": true
   },
   "outputs": [],
   "source": [
    "# Save Model\n",
    "import os\n",
    "\n",
    "MODELS_DIR = \"models\"\n",
    "\n",
    "def save_model(model, name, acc=None):\n",
    "    name += str(model.input.shape[1])\n",
    "    for layer in model.layers:\n",
    "        name += \"-\" + str(layer.output.shape[1])\n",
    "    \n",
    "    name += \"_\" + ((\"%.2f\" % acc) if acc is not None else \"\")\n",
    "    path = os.path.join(MODELS_DIR, name + \".h5\")\n",
    "    model.save(path)"
   ]
  },
  {
   "cell_type": "code",
   "execution_count": 36,
   "metadata": {
    "collapsed": true
   },
   "outputs": [],
   "source": [
    "X, Y = pulsars[:, :-1], pulsars[:, -1]\n",
    "\n",
    "train_set, test_set = split_train_dataset(pulsars, 0.2)"
   ]
  },
  {
   "cell_type": "code",
   "execution_count": 37,
   "metadata": {
    "collapsed": true
   },
   "outputs": [],
   "source": [
    "X_train, Y_train = train_set[:, :-1], train_set[:, -1]\n",
    "X_test, Y_test = test_set[:, :-1], test_set[:, -1]"
   ]
  },
  {
   "cell_type": "code",
   "execution_count": 45,
   "metadata": {
    "collapsed": true
   },
   "outputs": [],
   "source": [
    "# Create Model\n",
    "input_dimension = np.size(X_train, axis=1)\n",
    "\n",
    "def create_model(optimizer='adam', loss='binary_crossentropy', first_layer=16, second_layer=8):\n",
    "    model = Sequential()\n",
    "    model.add(Dense(first_layer, input_dim=input_dimension, activation='relu'))\n",
    "    if (second_layer > 1):\n",
    "        model.add(Dense(second_layer, activation='relu'))\n",
    "    model.add(Dense(1, activation='sigmoid'))\n",
    "    # Compile model\n",
    "    model.compile(loss=loss, optimizer=optimizer, metrics=['accuracy'])\n",
    "    return model"
   ]
  },
  {
   "cell_type": "code",
   "execution_count": 64,
   "metadata": {},
   "outputs": [],
   "source": [
    "from keras.wrappers.scikit_learn import KerasClassifier\n",
    "from sklearn.model_selection import StratifiedKFold\n",
    "from sklearn.model_selection import cross_val_score\n",
    "from sklearn.model_selection import GridSearchCV\n",
    "\n",
    "# create model\n",
    "model = KerasClassifier(build_fn=create_model, epochs=10, verbose=0)\n",
    "\n",
    "# Parameters for GridSearch\n",
    "param_grid = [\n",
    "#    {\n",
    "#        'optimizer': ['rmsprop'],\n",
    "#        'batch_size': [3, 5]\n",
    "#    },\n",
    "    {\n",
    "        'optimizer': ['adam'],\n",
    "        'batch_size': [15],\n",
    "        'second_layer': [0],\n",
    "        'first_layer': [8, 12, 16, 32, 64]\n",
    "    }\n",
    "]\n",
    "\n",
    "grid = GridSearchCV(estimator=model, param_grid=param_grid)\n",
    "grid_result = grid.fit(X, Y)"
   ]
  },
  {
   "cell_type": "code",
   "execution_count": 65,
   "metadata": {},
   "outputs": [
    {
     "name": "stdout",
     "output_type": "stream",
     "text": [
      "Best: 0.974913 using {'batch_size': 15, 'first_layer': 32, 'optimizer': 'adam', 'second_layer': 0}\n",
      "0.971505 (0.010581) with: {'batch_size': 15, 'first_layer': 8, 'optimizer': 'adam', 'second_layer': 0}\n",
      "0.974075 (0.009538) with: {'batch_size': 15, 'first_layer': 12, 'optimizer': 'adam', 'second_layer': 0}\n",
      "0.654710 (0.444245) with: {'batch_size': 15, 'first_layer': 16, 'optimizer': 'adam', 'second_layer': 0}\n",
      "0.974913 (0.008408) with: {'batch_size': 15, 'first_layer': 32, 'optimizer': 'adam', 'second_layer': 0}\n",
      "0.967315 (0.007965) with: {'batch_size': 15, 'first_layer': 64, 'optimizer': 'adam', 'second_layer': 0}\n"
     ]
    }
   ],
   "source": [
    "# summarize results\n",
    "print(\"Best: %f using %s\" % (grid_result.best_score_, grid_result.best_params_))\n",
    "means = grid_result.cv_results_['mean_test_score']\n",
    "stds = grid_result.cv_results_['std_test_score']\n",
    "params = grid_result.cv_results_['params']\n",
    "for mean, stdev, param in zip(means, stds, params):\n",
    "\tprint(\"%f (%f) with: %r\" % (mean, stdev, param))"
   ]
  },
  {
   "cell_type": "code",
   "execution_count": 66,
   "metadata": {},
   "outputs": [],
   "source": [
    "model_path = os.path.join(MODELS_DIR, 'grid_search_one_layer' + ('%.2f' % (grid.best_score_ * 100)) + '.h5')\n",
    "grid.best_estimator_.model.save(model_path)"
   ]
  },
  {
   "cell_type": "code",
   "execution_count": null,
   "metadata": {
    "collapsed": true
   },
   "outputs": [],
   "source": []
  }
 ],
 "metadata": {
  "kernelspec": {
   "display_name": "Python 3",
   "language": "python",
   "name": "python3"
  },
  "language_info": {
   "codemirror_mode": {
    "name": "ipython",
    "version": 3
   },
   "file_extension": ".py",
   "mimetype": "text/x-python",
   "name": "python",
   "nbconvert_exporter": "python",
   "pygments_lexer": "ipython3",
   "version": "3.6.3"
  }
 },
 "nbformat": 4,
 "nbformat_minor": 2
}
